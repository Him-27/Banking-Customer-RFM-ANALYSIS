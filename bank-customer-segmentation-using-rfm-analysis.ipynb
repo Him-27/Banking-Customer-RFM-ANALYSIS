{
 "cells": [
  {
   "cell_type": "markdown",
   "id": "708e69f5",
   "metadata": {
    "papermill": {
     "duration": 0.010833,
     "end_time": "2023-08-23T00:22:43.335822",
     "exception": false,
     "start_time": "2023-08-23T00:22:43.324989",
     "status": "completed"
    },
    "tags": []
   },
   "source": [
    "# **Bank Customer Segmentation using RFM Analysis (Recency, Frequency, Monetary)**"
   ]
  },
  {
   "cell_type": "markdown",
   "id": "c06bedb7",
   "metadata": {
    "papermill": {
     "duration": 0.010383,
     "end_time": "2023-08-23T00:22:43.356812",
     "exception": false,
     "start_time": "2023-08-23T00:22:43.346429",
     "status": "completed"
    },
    "tags": []
   },
   "source": [
    "*Hi everyone! This is my first ever notebook that I've posted on Kaggle. I'm excited to share my work with you all and I welcome any feedback or constructive criticism you may have. Thank you for taking the time to visit and explore my project!*"
   ]
  },
  {
   "cell_type": "markdown",
   "id": "b6580378",
   "metadata": {
    "papermill": {
     "duration": 0.010409,
     "end_time": "2023-08-23T00:22:43.377996",
     "exception": false,
     "start_time": "2023-08-23T00:22:43.367587",
     "status": "completed"
    },
    "tags": []
   },
   "source": [
    "We have been provided with Bank Transactional Data and have conducted an RFM analysis to segment our customers and gain valuable insights. RFM itself stands for:\n",
    "* Recency   (R) : How recently have they do a transaction?\n",
    "* Frequency (F) : How often have they engage in bank transaction?\n",
    "* Monetary  (M) : How much money do they involved in their transactions?\n",
    "By analyzing these factors, we aim to develop targeted marketing strategies and enhance our understanding of customer behavior. Let's start exploring the data and examining the actionable insights gained from this analysis."
   ]
  },
  {
   "cell_type": "markdown",
   "id": "c1ba418f",
   "metadata": {
    "papermill": {
     "duration": 0.01041,
     "end_time": "2023-08-23T00:22:43.399269",
     "exception": false,
     "start_time": "2023-08-23T00:22:43.388859",
     "status": "completed"
    },
    "tags": []
   },
   "source": [
    "First, we import the data."
   ]
  },
  {
   "cell_type": "markdown",
   "id": "aa14b9bb",
   "metadata": {
    "papermill": {
     "duration": 0.010417,
     "end_time": "2023-08-23T00:22:43.420263",
     "exception": false,
     "start_time": "2023-08-23T00:22:43.409846",
     "status": "completed"
    },
    "tags": []
   },
   "source": [
    "# **Import Data**"
   ]
  },
  {
   "cell_type": "code",
   "execution_count": 1,
   "id": "6c34ee38",
   "metadata": {
    "_cell_guid": "b1076dfc-b9ad-4769-8c92-a6c4dae69d19",
    "_uuid": "8f2839f25d086af736a60e9eeb907d3b93b6e0e5",
    "execution": {
     "iopub.execute_input": "2023-08-23T00:22:43.443707Z",
     "iopub.status.busy": "2023-08-23T00:22:43.443308Z",
     "iopub.status.idle": "2023-08-23T00:22:44.592772Z",
     "shell.execute_reply": "2023-08-23T00:22:44.591684Z"
    },
    "papermill": {
     "duration": 1.164058,
     "end_time": "2023-08-23T00:22:44.594863",
     "exception": false,
     "start_time": "2023-08-23T00:22:43.430805",
     "status": "completed"
    },
    "tags": []
   },
   "outputs": [
    {
     "name": "stdout",
     "output_type": "stream",
     "text": [
      "/kaggle/input/bank-customer-segmentation/bank_transactions.csv\n"
     ]
    }
   ],
   "source": [
    "import numpy as np # linear algebra\n",
    "import pandas as pd # data processing, CSV file I/O (e.g. pd.read_csv)\n",
    "import matplotlib.pyplot as plt # plots and visualization\n",
    "import scipy.stats as stats # scientific computing tools\n",
    "pd.set_option('mode.chained_assignment', None)\n",
    "\n",
    "import os\n",
    "for dirname, _, filenames in os.walk('/kaggle/input'):\n",
    "    for filename in filenames:\n",
    "        print(os.path.join(dirname, filename))"
   ]
  },
  {
   "cell_type": "code",
   "execution_count": 2,
   "id": "8dab3de1",
   "metadata": {
    "execution": {
     "iopub.execute_input": "2023-08-23T00:22:44.618486Z",
     "iopub.status.busy": "2023-08-23T00:22:44.617890Z",
     "iopub.status.idle": "2023-08-23T00:22:47.262409Z",
     "shell.execute_reply": "2023-08-23T00:22:47.261599Z"
    },
    "papermill": {
     "duration": 2.658449,
     "end_time": "2023-08-23T00:22:47.264254",
     "exception": false,
     "start_time": "2023-08-23T00:22:44.605805",
     "status": "completed"
    },
    "tags": []
   },
   "outputs": [
    {
     "data": {
      "text/html": [
       "<div>\n",
       "<style scoped>\n",
       "    .dataframe tbody tr th:only-of-type {\n",
       "        vertical-align: middle;\n",
       "    }\n",
       "\n",
       "    .dataframe tbody tr th {\n",
       "        vertical-align: top;\n",
       "    }\n",
       "\n",
       "    .dataframe thead th {\n",
       "        text-align: right;\n",
       "    }\n",
       "</style>\n",
       "<table border=\"1\" class=\"dataframe\">\n",
       "  <thead>\n",
       "    <tr style=\"text-align: right;\">\n",
       "      <th></th>\n",
       "      <th>TransactionID</th>\n",
       "      <th>CustomerID</th>\n",
       "      <th>CustomerDOB</th>\n",
       "      <th>CustGender</th>\n",
       "      <th>CustLocation</th>\n",
       "      <th>CustAccountBalance</th>\n",
       "      <th>TransactionDate</th>\n",
       "      <th>TransactionTime</th>\n",
       "      <th>TransactionAmount (INR)</th>\n",
       "    </tr>\n",
       "  </thead>\n",
       "  <tbody>\n",
       "    <tr>\n",
       "      <th>0</th>\n",
       "      <td>T1</td>\n",
       "      <td>C5841053</td>\n",
       "      <td>10/1/94</td>\n",
       "      <td>F</td>\n",
       "      <td>JAMSHEDPUR</td>\n",
       "      <td>17819.05</td>\n",
       "      <td>2/8/16</td>\n",
       "      <td>143207</td>\n",
       "      <td>25.0</td>\n",
       "    </tr>\n",
       "    <tr>\n",
       "      <th>1</th>\n",
       "      <td>T2</td>\n",
       "      <td>C2142763</td>\n",
       "      <td>4/4/57</td>\n",
       "      <td>M</td>\n",
       "      <td>JHAJJAR</td>\n",
       "      <td>2270.69</td>\n",
       "      <td>2/8/16</td>\n",
       "      <td>141858</td>\n",
       "      <td>27999.0</td>\n",
       "    </tr>\n",
       "    <tr>\n",
       "      <th>2</th>\n",
       "      <td>T3</td>\n",
       "      <td>C4417068</td>\n",
       "      <td>26/11/96</td>\n",
       "      <td>F</td>\n",
       "      <td>MUMBAI</td>\n",
       "      <td>17874.44</td>\n",
       "      <td>2/8/16</td>\n",
       "      <td>142712</td>\n",
       "      <td>459.0</td>\n",
       "    </tr>\n",
       "    <tr>\n",
       "      <th>3</th>\n",
       "      <td>T4</td>\n",
       "      <td>C5342380</td>\n",
       "      <td>14/9/73</td>\n",
       "      <td>F</td>\n",
       "      <td>MUMBAI</td>\n",
       "      <td>866503.21</td>\n",
       "      <td>2/8/16</td>\n",
       "      <td>142714</td>\n",
       "      <td>2060.0</td>\n",
       "    </tr>\n",
       "    <tr>\n",
       "      <th>4</th>\n",
       "      <td>T5</td>\n",
       "      <td>C9031234</td>\n",
       "      <td>24/3/88</td>\n",
       "      <td>F</td>\n",
       "      <td>NAVI MUMBAI</td>\n",
       "      <td>6714.43</td>\n",
       "      <td>2/8/16</td>\n",
       "      <td>181156</td>\n",
       "      <td>1762.5</td>\n",
       "    </tr>\n",
       "  </tbody>\n",
       "</table>\n",
       "</div>"
      ],
      "text/plain": [
       "  TransactionID CustomerID CustomerDOB CustGender CustLocation  \\\n",
       "0            T1   C5841053     10/1/94          F   JAMSHEDPUR   \n",
       "1            T2   C2142763      4/4/57          M      JHAJJAR   \n",
       "2            T3   C4417068    26/11/96          F       MUMBAI   \n",
       "3            T4   C5342380     14/9/73          F       MUMBAI   \n",
       "4            T5   C9031234     24/3/88          F  NAVI MUMBAI   \n",
       "\n",
       "   CustAccountBalance TransactionDate  TransactionTime  \\\n",
       "0            17819.05          2/8/16           143207   \n",
       "1             2270.69          2/8/16           141858   \n",
       "2            17874.44          2/8/16           142712   \n",
       "3           866503.21          2/8/16           142714   \n",
       "4             6714.43          2/8/16           181156   \n",
       "\n",
       "   TransactionAmount (INR)  \n",
       "0                     25.0  \n",
       "1                  27999.0  \n",
       "2                    459.0  \n",
       "3                   2060.0  \n",
       "4                   1762.5  "
      ]
     },
     "execution_count": 2,
     "metadata": {},
     "output_type": "execute_result"
    }
   ],
   "source": [
    "df = pd.read_csv('/kaggle/input/bank-customer-segmentation/bank_transactions.csv')\n",
    "\n",
    "# Showing preview of the Data (top 5 rows)\n",
    "df.head()"
   ]
  },
  {
   "cell_type": "markdown",
   "id": "0c68c782",
   "metadata": {
    "papermill": {
     "duration": 0.011153,
     "end_time": "2023-08-23T00:22:47.286553",
     "exception": false,
     "start_time": "2023-08-23T00:22:47.275400",
     "status": "completed"
    },
    "tags": []
   },
   "source": [
    "# **Data Dictionary**\n",
    "\n",
    "|Field                          |Description |\n",
    "|:------------------------------|:-----------|\n",
    "|TransactionID                  | A unique identifier for each transaction |\n",
    "|CustomerID                     | A unique identifier for each customer who do the transaction |\n",
    "|CustomerDOB                    | The date of birth of customer | \n",
    "|CustGender                     | The gender of the customer|\n",
    "|CustLocation                   | The location when the customer making transaction|\n",
    "|CustAccountBalance             | The account balance of the customer, indicating the amount of money held in their bank account|\n",
    "|TransactionDate                | The date on which the transaction occurred|\n",
    "|Transaction Time               | The time on which the transaction occurred|\n",
    "|TransactionAmount (INR)        | The monetary value of each transaction in Indian Rupees (INR)|"
   ]
  },
  {
   "cell_type": "markdown",
   "id": "c09a9c45",
   "metadata": {
    "papermill": {
     "duration": 0.010625,
     "end_time": "2023-08-23T00:22:47.308081",
     "exception": false,
     "start_time": "2023-08-23T00:22:47.297456",
     "status": "completed"
    },
    "tags": []
   },
   "source": [
    "# **Pre Analysis**\n",
    "Before we do the RFM analysis, let's begin with data preparation such as cleaning, transformation, and exploratory data analysis."
   ]
  },
  {
   "cell_type": "code",
   "execution_count": 3,
   "id": "f00d1abe",
   "metadata": {
    "execution": {
     "iopub.execute_input": "2023-08-23T00:22:47.331707Z",
     "iopub.status.busy": "2023-08-23T00:22:47.330770Z",
     "iopub.status.idle": "2023-08-23T00:22:48.170105Z",
     "shell.execute_reply": "2023-08-23T00:22:48.169271Z"
    },
    "papermill": {
     "duration": 0.854447,
     "end_time": "2023-08-23T00:22:48.173082",
     "exception": false,
     "start_time": "2023-08-23T00:22:47.318635",
     "status": "completed"
    },
    "tags": []
   },
   "outputs": [
    {
     "name": "stdout",
     "output_type": "stream",
     "text": [
      "<class 'pandas.core.frame.DataFrame'>\n",
      "RangeIndex: 1048567 entries, 0 to 1048566\n",
      "Data columns (total 9 columns):\n",
      " #   Column                   Non-Null Count    Dtype  \n",
      "---  ------                   --------------    -----  \n",
      " 0   TransactionID            1048567 non-null  object \n",
      " 1   CustomerID               1048567 non-null  object \n",
      " 2   CustomerDOB              1045170 non-null  object \n",
      " 3   CustGender               1047467 non-null  object \n",
      " 4   CustLocation             1048416 non-null  object \n",
      " 5   CustAccountBalance       1046198 non-null  float64\n",
      " 6   TransactionDate          1048567 non-null  object \n",
      " 7   TransactionTime          1048567 non-null  int64  \n",
      " 8   TransactionAmount (INR)  1048567 non-null  float64\n",
      "dtypes: float64(2), int64(1), object(6)\n",
      "memory usage: 72.0+ MB\n"
     ]
    }
   ],
   "source": [
    "# Checking the data information\n",
    "df.info()"
   ]
  },
  {
   "cell_type": "markdown",
   "id": "021539d0",
   "metadata": {
    "papermill": {
     "duration": 0.010477,
     "end_time": "2023-08-23T00:22:48.194846",
     "exception": false,
     "start_time": "2023-08-23T00:22:48.184369",
     "status": "completed"
    },
    "tags": []
   },
   "source": [
    "'TransactionTime' is not quite necessary for the analysis (since we already have 'TransactionDate' column). <br>\n",
    "Let's drop it."
   ]
  },
  {
   "cell_type": "code",
   "execution_count": 4,
   "id": "5ad38b0b",
   "metadata": {
    "_kg_hide-output": true,
    "execution": {
     "iopub.execute_input": "2023-08-23T00:22:48.221218Z",
     "iopub.status.busy": "2023-08-23T00:22:48.220687Z",
     "iopub.status.idle": "2023-08-23T00:22:48.290605Z",
     "shell.execute_reply": "2023-08-23T00:22:48.288696Z"
    },
    "papermill": {
     "duration": 0.088416,
     "end_time": "2023-08-23T00:22:48.294296",
     "exception": false,
     "start_time": "2023-08-23T00:22:48.205880",
     "status": "completed"
    },
    "tags": []
   },
   "outputs": [
    {
     "data": {
      "text/plain": [
       "Index(['TransactionID', 'CustomerID', 'CustomerDOB', 'CustGender',\n",
       "       'CustLocation', 'CustAccountBalance', 'TransactionDate',\n",
       "       'TransactionAmount (INR)'],\n",
       "      dtype='object')"
      ]
     },
     "execution_count": 4,
     "metadata": {},
     "output_type": "execute_result"
    }
   ],
   "source": [
    "# Drop 'TransactionTime' column\n",
    "df = df.drop(columns = 'TransactionTime')\n",
    "\n",
    "# Check the columns list\n",
    "df.columns"
   ]
  },
  {
   "cell_type": "markdown",
   "id": "eed22a0d",
   "metadata": {
    "papermill": {
     "duration": 0.011669,
     "end_time": "2023-08-23T00:22:48.318467",
     "exception": false,
     "start_time": "2023-08-23T00:22:48.306798",
     "status": "completed"
    },
    "tags": []
   },
   "source": [
    "We also found that 'CustomerDOB' and 'invoice_date' column data type isn't assigned to the correct data type so let's change it to datetime type."
   ]
  },
  {
   "cell_type": "code",
   "execution_count": 5,
   "id": "8c9ed320",
   "metadata": {
    "execution": {
     "iopub.execute_input": "2023-08-23T00:22:48.349423Z",
     "iopub.status.busy": "2023-08-23T00:22:48.348703Z",
     "iopub.status.idle": "2023-08-23T00:22:51.267195Z",
     "shell.execute_reply": "2023-08-23T00:22:51.265734Z"
    },
    "papermill": {
     "duration": 2.935611,
     "end_time": "2023-08-23T00:22:51.269260",
     "exception": false,
     "start_time": "2023-08-23T00:22:48.333649",
     "status": "completed"
    },
    "tags": []
   },
   "outputs": [
    {
     "name": "stdout",
     "output_type": "stream",
     "text": [
      "<class 'pandas.core.frame.DataFrame'>\n",
      "RangeIndex: 1048567 entries, 0 to 1048566\n",
      "Data columns (total 8 columns):\n",
      " #   Column                   Non-Null Count    Dtype         \n",
      "---  ------                   --------------    -----         \n",
      " 0   TransactionID            1048567 non-null  object        \n",
      " 1   CustomerID               1048567 non-null  object        \n",
      " 2   CustomerDOB              987831 non-null   datetime64[ns]\n",
      " 3   CustGender               1047467 non-null  object        \n",
      " 4   CustLocation             1048416 non-null  object        \n",
      " 5   CustAccountBalance       1046198 non-null  float64       \n",
      " 6   TransactionDate          1048567 non-null  datetime64[ns]\n",
      " 7   TransactionAmount (INR)  1048567 non-null  float64       \n",
      "dtypes: datetime64[ns](2), float64(2), object(4)\n",
      "memory usage: 64.0+ MB\n"
     ]
    }
   ],
   "source": [
    "# Convert the data type\n",
    "df['CustomerDOB'] = pd.to_datetime(df['CustomerDOB'], format='%d/%m/%y', errors = 'coerce')\n",
    "df['TransactionDate'] = pd.to_datetime(df['TransactionDate'])\n",
    "\n",
    "# Check the data information again\n",
    "df.info()"
   ]
  },
  {
   "cell_type": "markdown",
   "id": "4ac5ac9e",
   "metadata": {
    "papermill": {
     "duration": 0.011377,
     "end_time": "2023-08-23T00:22:51.293043",
     "exception": false,
     "start_time": "2023-08-23T00:22:51.281666",
     "status": "completed"
    },
    "tags": []
   },
   "source": [
    "We also want to see how many missing value (in percentage) of each columns"
   ]
  },
  {
   "cell_type": "code",
   "execution_count": 6,
   "id": "00d1d56d",
   "metadata": {
    "execution": {
     "iopub.execute_input": "2023-08-23T00:22:51.317399Z",
     "iopub.status.busy": "2023-08-23T00:22:51.316802Z",
     "iopub.status.idle": "2023-08-23T00:22:53.015798Z",
     "shell.execute_reply": "2023-08-23T00:22:53.014875Z"
    },
    "papermill": {
     "duration": 1.713811,
     "end_time": "2023-08-23T00:22:53.017969",
     "exception": false,
     "start_time": "2023-08-23T00:22:51.304158",
     "status": "completed"
    },
    "tags": []
   },
   "outputs": [
    {
     "data": {
      "text/html": [
       "<div>\n",
       "<style scoped>\n",
       "    .dataframe tbody tr th:only-of-type {\n",
       "        vertical-align: middle;\n",
       "    }\n",
       "\n",
       "    .dataframe tbody tr th {\n",
       "        vertical-align: top;\n",
       "    }\n",
       "\n",
       "    .dataframe thead th {\n",
       "        text-align: right;\n",
       "    }\n",
       "</style>\n",
       "<table border=\"1\" class=\"dataframe\">\n",
       "  <thead>\n",
       "    <tr style=\"text-align: right;\">\n",
       "      <th></th>\n",
       "      <th>null-count</th>\n",
       "      <th>not-null-count</th>\n",
       "      <th>pct-null</th>\n",
       "    </tr>\n",
       "  </thead>\n",
       "  <tbody>\n",
       "    <tr>\n",
       "      <th>TransactionID</th>\n",
       "      <td>0</td>\n",
       "      <td>1048567</td>\n",
       "      <td>0.000000</td>\n",
       "    </tr>\n",
       "    <tr>\n",
       "      <th>CustomerID</th>\n",
       "      <td>0</td>\n",
       "      <td>1048567</td>\n",
       "      <td>0.000000</td>\n",
       "    </tr>\n",
       "    <tr>\n",
       "      <th>CustomerDOB</th>\n",
       "      <td>60736</td>\n",
       "      <td>987831</td>\n",
       "      <td>5.792286</td>\n",
       "    </tr>\n",
       "    <tr>\n",
       "      <th>CustGender</th>\n",
       "      <td>1100</td>\n",
       "      <td>1047467</td>\n",
       "      <td>0.104905</td>\n",
       "    </tr>\n",
       "    <tr>\n",
       "      <th>CustLocation</th>\n",
       "      <td>151</td>\n",
       "      <td>1048416</td>\n",
       "      <td>0.014401</td>\n",
       "    </tr>\n",
       "    <tr>\n",
       "      <th>CustAccountBalance</th>\n",
       "      <td>2369</td>\n",
       "      <td>1046198</td>\n",
       "      <td>0.225927</td>\n",
       "    </tr>\n",
       "    <tr>\n",
       "      <th>TransactionDate</th>\n",
       "      <td>0</td>\n",
       "      <td>1048567</td>\n",
       "      <td>0.000000</td>\n",
       "    </tr>\n",
       "    <tr>\n",
       "      <th>TransactionAmount (INR)</th>\n",
       "      <td>0</td>\n",
       "      <td>1048567</td>\n",
       "      <td>0.000000</td>\n",
       "    </tr>\n",
       "  </tbody>\n",
       "</table>\n",
       "</div>"
      ],
      "text/plain": [
       "                         null-count  not-null-count  pct-null\n",
       "TransactionID                     0         1048567  0.000000\n",
       "CustomerID                        0         1048567  0.000000\n",
       "CustomerDOB                   60736          987831  5.792286\n",
       "CustGender                     1100         1047467  0.104905\n",
       "CustLocation                    151         1048416  0.014401\n",
       "CustAccountBalance             2369         1046198  0.225927\n",
       "TransactionDate                   0         1048567  0.000000\n",
       "TransactionAmount (INR)           0         1048567  0.000000"
      ]
     },
     "execution_count": 6,
     "metadata": {},
     "output_type": "execute_result"
    }
   ],
   "source": [
    "# Null and Not-Null Comparison\n",
    "pd.DataFrame({\n",
    "    'null-count': df.isna().sum(),\n",
    "    'not-null-count': df.notna().sum(),\n",
    "    'pct-null': df.isna().sum()/len(df)*100\n",
    "})"
   ]
  },
  {
   "cell_type": "markdown",
   "id": "af3fe2ad",
   "metadata": {
    "papermill": {
     "duration": 0.011291,
     "end_time": "2023-08-23T00:22:53.040530",
     "exception": false,
     "start_time": "2023-08-23T00:22:53.029239",
     "status": "completed"
    },
    "tags": []
   },
   "source": [
    "There is some missing values in 'CustomerDOB', 'CustGender', 'CustLocation', 'CustAccountBalance'. I think it is okay to just let the first three columns that I state remain as that since our goal is doing a customer segmentation based on their RFM. The problem is the missing values in 'CustAccountBalance' column is a bit tricky to handle yet too inconvenience to be included in analysis. Since it is only 0.23% of the entire data, I decided to drop the rows."
   ]
  },
  {
   "cell_type": "code",
   "execution_count": 7,
   "id": "4cdeb293",
   "metadata": {
    "execution": {
     "iopub.execute_input": "2023-08-23T00:22:53.068023Z",
     "iopub.status.busy": "2023-08-23T00:22:53.066911Z",
     "iopub.status.idle": "2023-08-23T00:22:53.726031Z",
     "shell.execute_reply": "2023-08-23T00:22:53.724858Z"
    },
    "papermill": {
     "duration": 0.674925,
     "end_time": "2023-08-23T00:22:53.728447",
     "exception": false,
     "start_time": "2023-08-23T00:22:53.053522",
     "status": "completed"
    },
    "tags": []
   },
   "outputs": [
    {
     "data": {
      "text/plain": [
       "TransactionID                  0\n",
       "CustomerID                     0\n",
       "CustomerDOB                60561\n",
       "CustGender                  1100\n",
       "CustLocation                 151\n",
       "CustAccountBalance             0\n",
       "TransactionDate                0\n",
       "TransactionAmount (INR)        0\n",
       "dtype: int64"
      ]
     },
     "execution_count": 7,
     "metadata": {},
     "output_type": "execute_result"
    }
   ],
   "source": [
    "# Drop the rows that have missing values in 'CustAccountBalance' column\n",
    "df.dropna(subset=['CustAccountBalance'], inplace=True)\n",
    "\n",
    "# Verify that the rows with missing values have been dropped\n",
    "df.isna().sum()"
   ]
  },
  {
   "cell_type": "markdown",
   "id": "0d005400",
   "metadata": {
    "papermill": {
     "duration": 0.012168,
     "end_time": "2023-08-23T00:22:53.752838",
     "exception": false,
     "start_time": "2023-08-23T00:22:53.740670",
     "status": "completed"
    },
    "tags": []
   },
   "source": [
    "Now, let's see the number comparison of unique values and total count of each column."
   ]
  },
  {
   "cell_type": "code",
   "execution_count": 8,
   "id": "0fc8322e",
   "metadata": {
    "execution": {
     "iopub.execute_input": "2023-08-23T00:22:53.778025Z",
     "iopub.status.busy": "2023-08-23T00:22:53.777391Z",
     "iopub.status.idle": "2023-08-23T00:22:54.951247Z",
     "shell.execute_reply": "2023-08-23T00:22:54.949800Z"
    },
    "papermill": {
     "duration": 1.189333,
     "end_time": "2023-08-23T00:22:54.953825",
     "exception": false,
     "start_time": "2023-08-23T00:22:53.764492",
     "status": "completed"
    },
    "tags": []
   },
   "outputs": [
    {
     "data": {
      "text/html": [
       "<div>\n",
       "<style scoped>\n",
       "    .dataframe tbody tr th:only-of-type {\n",
       "        vertical-align: middle;\n",
       "    }\n",
       "\n",
       "    .dataframe tbody tr th {\n",
       "        vertical-align: top;\n",
       "    }\n",
       "\n",
       "    .dataframe thead th {\n",
       "        text-align: right;\n",
       "    }\n",
       "</style>\n",
       "<table border=\"1\" class=\"dataframe\">\n",
       "  <thead>\n",
       "    <tr style=\"text-align: right;\">\n",
       "      <th></th>\n",
       "      <th>unique_count</th>\n",
       "      <th>rows_count</th>\n",
       "    </tr>\n",
       "  </thead>\n",
       "  <tbody>\n",
       "    <tr>\n",
       "      <th>TransactionID</th>\n",
       "      <td>1046198</td>\n",
       "      <td>1046198</td>\n",
       "    </tr>\n",
       "    <tr>\n",
       "      <th>CustomerID</th>\n",
       "      <td>882600</td>\n",
       "      <td>1046198</td>\n",
       "    </tr>\n",
       "    <tr>\n",
       "      <th>CustomerDOB</th>\n",
       "      <td>17233</td>\n",
       "      <td>985637</td>\n",
       "    </tr>\n",
       "    <tr>\n",
       "      <th>CustGender</th>\n",
       "      <td>3</td>\n",
       "      <td>1045098</td>\n",
       "    </tr>\n",
       "    <tr>\n",
       "      <th>CustLocation</th>\n",
       "      <td>9330</td>\n",
       "      <td>1046047</td>\n",
       "    </tr>\n",
       "    <tr>\n",
       "      <th>CustAccountBalance</th>\n",
       "      <td>161328</td>\n",
       "      <td>1046198</td>\n",
       "    </tr>\n",
       "    <tr>\n",
       "      <th>TransactionDate</th>\n",
       "      <td>55</td>\n",
       "      <td>1046198</td>\n",
       "    </tr>\n",
       "    <tr>\n",
       "      <th>TransactionAmount (INR)</th>\n",
       "      <td>92855</td>\n",
       "      <td>1046198</td>\n",
       "    </tr>\n",
       "  </tbody>\n",
       "</table>\n",
       "</div>"
      ],
      "text/plain": [
       "                         unique_count  rows_count\n",
       "TransactionID                 1046198     1046198\n",
       "CustomerID                     882600     1046198\n",
       "CustomerDOB                     17233      985637\n",
       "CustGender                          3     1045098\n",
       "CustLocation                     9330     1046047\n",
       "CustAccountBalance             161328     1046198\n",
       "TransactionDate                    55     1046198\n",
       "TransactionAmount (INR)         92855     1046198"
      ]
     },
     "execution_count": 8,
     "metadata": {},
     "output_type": "execute_result"
    }
   ],
   "source": [
    "# Number Comparison of Unique Values and Total Count of each column\n",
    "pd.DataFrame({\n",
    "    'unique_count':df.nunique(),\n",
    "    'rows_count':df.count()\n",
    "})"
   ]
  },
  {
   "cell_type": "markdown",
   "id": "0e4af880",
   "metadata": {
    "papermill": {
     "duration": 0.011795,
     "end_time": "2023-08-23T00:22:54.977813",
     "exception": false,
     "start_time": "2023-08-23T00:22:54.966018",
     "status": "completed"
    },
    "tags": []
   },
   "source": [
    "That looks nice! Next, we should know the data distribution"
   ]
  },
  {
   "cell_type": "code",
   "execution_count": 9,
   "id": "94afd044",
   "metadata": {
    "execution": {
     "iopub.execute_input": "2023-08-23T00:22:55.004179Z",
     "iopub.status.busy": "2023-08-23T00:22:55.003806Z",
     "iopub.status.idle": "2023-08-23T00:22:55.085568Z",
     "shell.execute_reply": "2023-08-23T00:22:55.084055Z"
    },
    "papermill": {
     "duration": 0.09854,
     "end_time": "2023-08-23T00:22:55.088506",
     "exception": false,
     "start_time": "2023-08-23T00:22:54.989966",
     "status": "completed"
    },
    "tags": []
   },
   "outputs": [
    {
     "data": {
      "text/html": [
       "<div>\n",
       "<style scoped>\n",
       "    .dataframe tbody tr th:only-of-type {\n",
       "        vertical-align: middle;\n",
       "    }\n",
       "\n",
       "    .dataframe tbody tr th {\n",
       "        vertical-align: top;\n",
       "    }\n",
       "\n",
       "    .dataframe thead th {\n",
       "        text-align: right;\n",
       "    }\n",
       "</style>\n",
       "<table border=\"1\" class=\"dataframe\">\n",
       "  <thead>\n",
       "    <tr style=\"text-align: right;\">\n",
       "      <th></th>\n",
       "      <th>CustAccountBalance</th>\n",
       "      <th>TransactionAmount (INR)</th>\n",
       "    </tr>\n",
       "  </thead>\n",
       "  <tbody>\n",
       "    <tr>\n",
       "      <th>count</th>\n",
       "      <td>1.046198e+06</td>\n",
       "      <td>1.046198e+06</td>\n",
       "    </tr>\n",
       "    <tr>\n",
       "      <th>mean</th>\n",
       "      <td>1.154035e+05</td>\n",
       "      <td>1.573267e+03</td>\n",
       "    </tr>\n",
       "    <tr>\n",
       "      <th>std</th>\n",
       "      <td>8.464854e+05</td>\n",
       "      <td>6.569715e+03</td>\n",
       "    </tr>\n",
       "    <tr>\n",
       "      <th>min</th>\n",
       "      <td>0.000000e+00</td>\n",
       "      <td>0.000000e+00</td>\n",
       "    </tr>\n",
       "    <tr>\n",
       "      <th>25%</th>\n",
       "      <td>4.721760e+03</td>\n",
       "      <td>1.610000e+02</td>\n",
       "    </tr>\n",
       "    <tr>\n",
       "      <th>50%</th>\n",
       "      <td>1.679218e+04</td>\n",
       "      <td>4.590000e+02</td>\n",
       "    </tr>\n",
       "    <tr>\n",
       "      <th>75%</th>\n",
       "      <td>5.765736e+04</td>\n",
       "      <td>1.200000e+03</td>\n",
       "    </tr>\n",
       "    <tr>\n",
       "      <th>max</th>\n",
       "      <td>1.150355e+08</td>\n",
       "      <td>1.560035e+06</td>\n",
       "    </tr>\n",
       "  </tbody>\n",
       "</table>\n",
       "</div>"
      ],
      "text/plain": [
       "       CustAccountBalance  TransactionAmount (INR)\n",
       "count        1.046198e+06             1.046198e+06\n",
       "mean         1.154035e+05             1.573267e+03\n",
       "std          8.464854e+05             6.569715e+03\n",
       "min          0.000000e+00             0.000000e+00\n",
       "25%          4.721760e+03             1.610000e+02\n",
       "50%          1.679218e+04             4.590000e+02\n",
       "75%          5.765736e+04             1.200000e+03\n",
       "max          1.150355e+08             1.560035e+06"
      ]
     },
     "execution_count": 9,
     "metadata": {},
     "output_type": "execute_result"
    }
   ],
   "source": [
    "# Descriptive Statistics for quantitative variables\n",
    "df.describe()"
   ]
  },
  {
   "cell_type": "code",
   "execution_count": 10,
   "id": "89d07bc6",
   "metadata": {
    "execution": {
     "iopub.execute_input": "2023-08-23T00:22:55.114919Z",
     "iopub.status.busy": "2023-08-23T00:22:55.114526Z",
     "iopub.status.idle": "2023-08-23T00:22:57.601937Z",
     "shell.execute_reply": "2023-08-23T00:22:57.600999Z"
    },
    "papermill": {
     "duration": 2.502971,
     "end_time": "2023-08-23T00:22:57.603862",
     "exception": false,
     "start_time": "2023-08-23T00:22:55.100891",
     "status": "completed"
    },
    "tags": []
   },
   "outputs": [
    {
     "data": {
      "text/html": [
       "<div>\n",
       "<style scoped>\n",
       "    .dataframe tbody tr th:only-of-type {\n",
       "        vertical-align: middle;\n",
       "    }\n",
       "\n",
       "    .dataframe tbody tr th {\n",
       "        vertical-align: top;\n",
       "    }\n",
       "\n",
       "    .dataframe thead th {\n",
       "        text-align: right;\n",
       "    }\n",
       "</style>\n",
       "<table border=\"1\" class=\"dataframe\">\n",
       "  <thead>\n",
       "    <tr style=\"text-align: right;\">\n",
       "      <th></th>\n",
       "      <th>TransactionID</th>\n",
       "      <th>CustomerID</th>\n",
       "      <th>CustGender</th>\n",
       "      <th>CustLocation</th>\n",
       "    </tr>\n",
       "  </thead>\n",
       "  <tbody>\n",
       "    <tr>\n",
       "      <th>count</th>\n",
       "      <td>1046198</td>\n",
       "      <td>1046198</td>\n",
       "      <td>1045098</td>\n",
       "      <td>1046047</td>\n",
       "    </tr>\n",
       "    <tr>\n",
       "      <th>unique</th>\n",
       "      <td>1046198</td>\n",
       "      <td>882600</td>\n",
       "      <td>3</td>\n",
       "      <td>9330</td>\n",
       "    </tr>\n",
       "    <tr>\n",
       "      <th>top</th>\n",
       "      <td>T1</td>\n",
       "      <td>C5531319</td>\n",
       "      <td>M</td>\n",
       "      <td>MUMBAI</td>\n",
       "    </tr>\n",
       "    <tr>\n",
       "      <th>freq</th>\n",
       "      <td>1</td>\n",
       "      <td>6</td>\n",
       "      <td>763825</td>\n",
       "      <td>103325</td>\n",
       "    </tr>\n",
       "  </tbody>\n",
       "</table>\n",
       "</div>"
      ],
      "text/plain": [
       "       TransactionID CustomerID CustGender CustLocation\n",
       "count        1046198    1046198    1045098      1046047\n",
       "unique       1046198     882600          3         9330\n",
       "top               T1   C5531319          M       MUMBAI\n",
       "freq               1          6     763825       103325"
      ]
     },
     "execution_count": 10,
     "metadata": {},
     "output_type": "execute_result"
    }
   ],
   "source": [
    "# Descriptive Statistics for categorical variables\n",
    "df.describe(include='object')"
   ]
  },
  {
   "cell_type": "code",
   "execution_count": 11,
   "id": "7914fd81",
   "metadata": {
    "execution": {
     "iopub.execute_input": "2023-08-23T00:22:57.631126Z",
     "iopub.status.busy": "2023-08-23T00:22:57.630753Z",
     "iopub.status.idle": "2023-08-23T00:22:57.686090Z",
     "shell.execute_reply": "2023-08-23T00:22:57.684874Z"
    },
    "papermill": {
     "duration": 0.071868,
     "end_time": "2023-08-23T00:22:57.688523",
     "exception": false,
     "start_time": "2023-08-23T00:22:57.616655",
     "status": "completed"
    },
    "tags": []
   },
   "outputs": [
    {
     "data": {
      "text/html": [
       "<div>\n",
       "<style scoped>\n",
       "    .dataframe tbody tr th:only-of-type {\n",
       "        vertical-align: middle;\n",
       "    }\n",
       "\n",
       "    .dataframe tbody tr th {\n",
       "        vertical-align: top;\n",
       "    }\n",
       "\n",
       "    .dataframe thead th {\n",
       "        text-align: right;\n",
       "    }\n",
       "</style>\n",
       "<table border=\"1\" class=\"dataframe\">\n",
       "  <thead>\n",
       "    <tr style=\"text-align: right;\">\n",
       "      <th></th>\n",
       "      <th>CustomerDOB</th>\n",
       "      <th>TransactionDate</th>\n",
       "    </tr>\n",
       "  </thead>\n",
       "  <tbody>\n",
       "    <tr>\n",
       "      <th>count</th>\n",
       "      <td>985637</td>\n",
       "      <td>1046198</td>\n",
       "    </tr>\n",
       "    <tr>\n",
       "      <th>mean</th>\n",
       "      <td>1990-12-21 21:43:37.027972736</td>\n",
       "      <td>2016-07-25 19:41:48.174552064</td>\n",
       "    </tr>\n",
       "    <tr>\n",
       "      <th>min</th>\n",
       "      <td>1969-01-01 00:00:00</td>\n",
       "      <td>2016-01-08 00:00:00</td>\n",
       "    </tr>\n",
       "    <tr>\n",
       "      <th>25%</th>\n",
       "      <td>1983-09-08 00:00:00</td>\n",
       "      <td>2016-06-09 00:00:00</td>\n",
       "    </tr>\n",
       "    <tr>\n",
       "      <th>50%</th>\n",
       "      <td>1988-08-06 00:00:00</td>\n",
       "      <td>2016-08-20 00:00:00</td>\n",
       "    </tr>\n",
       "    <tr>\n",
       "      <th>75%</th>\n",
       "      <td>1992-02-10 00:00:00</td>\n",
       "      <td>2016-09-09 00:00:00</td>\n",
       "    </tr>\n",
       "    <tr>\n",
       "      <th>max</th>\n",
       "      <td>2068-12-31 00:00:00</td>\n",
       "      <td>2016-12-09 00:00:00</td>\n",
       "    </tr>\n",
       "  </tbody>\n",
       "</table>\n",
       "</div>"
      ],
      "text/plain": [
       "                         CustomerDOB                TransactionDate\n",
       "count                         985637                        1046198\n",
       "mean   1990-12-21 21:43:37.027972736  2016-07-25 19:41:48.174552064\n",
       "min              1969-01-01 00:00:00            2016-01-08 00:00:00\n",
       "25%              1983-09-08 00:00:00            2016-06-09 00:00:00\n",
       "50%              1988-08-06 00:00:00            2016-08-20 00:00:00\n",
       "75%              1992-02-10 00:00:00            2016-09-09 00:00:00\n",
       "max              2068-12-31 00:00:00            2016-12-09 00:00:00"
      ]
     },
     "execution_count": 11,
     "metadata": {},
     "output_type": "execute_result"
    }
   ],
   "source": [
    "# Descriptive Statistics for datetime variables\n",
    "pd.DataFrame({\n",
    "    'CustomerDOB': df['CustomerDOB'].describe(datetime_is_numeric=True),\n",
    "    'TransactionDate': df['TransactionDate'].describe(datetime_is_numeric=True)\n",
    "})"
   ]
  },
  {
   "cell_type": "markdown",
   "id": "8c86b804",
   "metadata": {
    "papermill": {
     "duration": 0.012494,
     "end_time": "2023-08-23T00:22:57.713627",
     "exception": false,
     "start_time": "2023-08-23T00:22:57.701133",
     "status": "completed"
    },
    "tags": []
   },
   "source": [
    "Here we found an anomaly, how can we have a customer that born in the future for transaction in 2016? There are probably some data entry mistake happened. Let's check it first how is the data distribution that have this anomaly."
   ]
  },
  {
   "cell_type": "code",
   "execution_count": 12,
   "id": "f2667d78",
   "metadata": {
    "execution": {
     "iopub.execute_input": "2023-08-23T00:22:57.739982Z",
     "iopub.status.busy": "2023-08-23T00:22:57.739648Z",
     "iopub.status.idle": "2023-08-23T00:23:00.069319Z",
     "shell.execute_reply": "2023-08-23T00:23:00.068513Z"
    },
    "papermill": {
     "duration": 2.345249,
     "end_time": "2023-08-23T00:23:00.071270",
     "exception": false,
     "start_time": "2023-08-23T00:22:57.726021",
     "status": "completed"
    },
    "tags": []
   },
   "outputs": [
    {
     "data": {
      "text/plain": [
       "count                            54307\n",
       "mean     2059-12-31 01:26:39.241350144\n",
       "min                2018-05-03 00:00:00\n",
       "25%                2055-04-29 00:00:00\n",
       "50%                2062-05-31 00:00:00\n",
       "75%                2066-04-11 00:00:00\n",
       "max                2068-12-31 00:00:00\n",
       "Name: CustomerDOB, dtype: object"
      ]
     },
     "execution_count": 12,
     "metadata": {},
     "output_type": "execute_result"
    }
   ],
   "source": [
    "# Descriptive Statistics for 'CustomerDOB' anomaly data\n",
    "df['CustomerDOB'][df['CustomerDOB'] > max(df['TransactionDate'])].describe(datetime_is_numeric=True)"
   ]
  },
  {
   "cell_type": "markdown",
   "id": "0354527f",
   "metadata": {
    "papermill": {
     "duration": 0.012743,
     "end_time": "2023-08-23T00:23:00.096607",
     "exception": false,
     "start_time": "2023-08-23T00:23:00.083864",
     "status": "completed"
    },
    "tags": []
   },
   "source": [
    "There is 54307 rows so let's do some value replacing. When we want to fill some missing/unknown values in datetime type of column, we tends to use backward or forward filling. But knowing that it is a DOB, I personally think we should fill it with either median or mean instead. This approach ensures consistency in the data while preserving the integrity of the birth date information. <br>\n",
    "To decide whether to use median or mean, let's take a look for their distribution first."
   ]
  },
  {
   "cell_type": "code",
   "execution_count": 13,
   "id": "80cc5403",
   "metadata": {
    "execution": {
     "iopub.execute_input": "2023-08-23T00:23:00.130583Z",
     "iopub.status.busy": "2023-08-23T00:23:00.129869Z",
     "iopub.status.idle": "2023-08-23T00:23:00.444835Z",
     "shell.execute_reply": "2023-08-23T00:23:00.443849Z"
    },
    "papermill": {
     "duration": 0.337131,
     "end_time": "2023-08-23T00:23:00.446919",
     "exception": false,
     "start_time": "2023-08-23T00:23:00.109788",
     "status": "completed"
    },
    "tags": []
   },
   "outputs": [
    {
     "data": {
      "image/png": "[encoded data removed]",
      "text/plain": [
       "<Figure size 640x480 with 1 Axes>"
      ]
     },
     "metadata": {},
     "output_type": "display_data"
    }
   ],
   "source": [
    "# Histogram of 'CustomerDOB' column\n",
    "plt.hist(df['CustomerDOB'])\n",
    "plt.xlabel('Customer DOB')\n",
    "plt.ylabel('Frequency')\n",
    "plt.title('Distribution of Customer DOB')\n",
    "plt.show()"
   ]
  },
  {
   "cell_type": "markdown",
   "id": "3c82a666",
   "metadata": {
    "papermill": {
     "duration": 0.012706,
     "end_time": "2023-08-23T00:23:00.475763",
     "exception": false,
     "start_time": "2023-08-23T00:23:00.463057",
     "status": "completed"
    },
    "tags": []
   },
   "source": [
    "We see that the distribution is right skewed, therefor it will be better for us to use median."
   ]
  },
  {
   "cell_type": "code",
   "execution_count": 14,
   "id": "d042a5f2",
   "metadata": {
    "execution": {
     "iopub.execute_input": "2023-08-23T00:23:00.503045Z",
     "iopub.status.busy": "2023-08-23T00:23:00.501991Z",
     "iopub.status.idle": "2023-08-23T00:23:05.096875Z",
     "shell.execute_reply": "2023-08-23T00:23:05.096041Z"
    },
    "papermill": {
     "duration": 4.610455,
     "end_time": "2023-08-23T00:23:05.098859",
     "exception": false,
     "start_time": "2023-08-23T00:23:00.488404",
     "status": "completed"
    },
    "tags": []
   },
   "outputs": [
    {
     "data": {
      "text/html": [
       "<div>\n",
       "<style scoped>\n",
       "    .dataframe tbody tr th:only-of-type {\n",
       "        vertical-align: middle;\n",
       "    }\n",
       "\n",
       "    .dataframe tbody tr th {\n",
       "        vertical-align: top;\n",
       "    }\n",
       "\n",
       "    .dataframe thead th {\n",
       "        text-align: right;\n",
       "    }\n",
       "</style>\n",
       "<table border=\"1\" class=\"dataframe\">\n",
       "  <thead>\n",
       "    <tr style=\"text-align: right;\">\n",
       "      <th></th>\n",
       "      <th>TransactionID</th>\n",
       "      <th>CustomerID</th>\n",
       "      <th>CustomerDOB</th>\n",
       "      <th>CustGender</th>\n",
       "      <th>CustLocation</th>\n",
       "      <th>CustAccountBalance</th>\n",
       "      <th>TransactionDate</th>\n",
       "      <th>TransactionAmount (INR)</th>\n",
       "    </tr>\n",
       "  </thead>\n",
       "  <tbody>\n",
       "  </tbody>\n",
       "</table>\n",
       "</div>"
      ],
      "text/plain": [
       "Empty DataFrame\n",
       "Columns: [TransactionID, CustomerID, CustomerDOB, CustGender, CustLocation, CustAccountBalance, TransactionDate, TransactionAmount (INR)]\n",
       "Index: []"
      ]
     },
     "execution_count": 14,
     "metadata": {},
     "output_type": "execute_result"
    }
   ],
   "source": [
    "# Replace the anomaly 'CustomerDOB' with the median value of 'CustomerDOB' (1989-01-01)\n",
    "df['CustomerDOB'][df['CustomerDOB'] > max(df['TransactionDate'])] = pd.to_datetime('1988-08-06 00:00:00')\n",
    "\n",
    "# Verify that the anomaly data have been replaced\n",
    "df[df['CustomerDOB'] > max(df['TransactionDate'])]"
   ]
  },
  {
   "cell_type": "markdown",
   "id": "eefeda91",
   "metadata": {
    "papermill": {
     "duration": 0.012496,
     "end_time": "2023-08-23T00:23:05.124594",
     "exception": false,
     "start_time": "2023-08-23T00:23:05.112098",
     "status": "completed"
    },
    "tags": []
   },
   "source": [
    "Since Anomaly is cleared, we can continue to do some exploratory data analysis focused on data visualization to understand our data better. <br>\n",
    "We want to know how distributed the value of our quantitative columns. Since the data has a wide range with large values, I decided to apply a logarithmic transformation which can help compress the scale and reveal more details in the lower range."
   ]
  },
  {
   "cell_type": "code",
   "execution_count": 15,
   "id": "955aca6f",
   "metadata": {
    "execution": {
     "iopub.execute_input": "2023-08-23T00:23:05.152109Z",
     "iopub.status.busy": "2023-08-23T00:23:05.151383Z",
     "iopub.status.idle": "2023-08-23T00:23:05.434983Z",
     "shell.execute_reply": "2023-08-23T00:23:05.433876Z"
    },
    "papermill": {
     "duration": 0.299551,
     "end_time": "2023-08-23T00:23:05.436905",
     "exception": false,
     "start_time": "2023-08-23T00:23:05.137354",
     "status": "completed"
    },
    "tags": []
   },
   "outputs": [
    {
     "data": {
      "image/png": "[encoded data removed]",
      "text/plain": [
       "<Figure size 640x480 with 1 Axes>"
      ]
     },
     "metadata": {},
     "output_type": "display_data"
    }
   ],
   "source": [
    "# Histogram of CustAccountBalance column\n",
    "log_balance = np.log1p(df['CustAccountBalance'])\n",
    "\n",
    "plt.hist(log_balance, bins=50, density=True, alpha=0.7)\n",
    "plt.xlabel('Logarithm of Transaction Amount (INR)')\n",
    "plt.ylabel('Probability Density')\n",
    "plt.title('Distribution of Log-transformed Customer Account Balance')\n",
    "x = np.linspace(log_balance.min(), log_balance.max(), 100)\n",
    "dist = stats.norm(log_balance.mean(), log_balance.std())\n",
    "plt.plot(x, dist.pdf(x), color='red', label='PDF')\n",
    "plt.legend()\n",
    "plt.show()"
   ]
  },
  {
   "cell_type": "code",
   "execution_count": 16,
   "id": "ee89b193",
   "metadata": {
    "execution": {
     "iopub.execute_input": "2023-08-23T00:23:05.467363Z",
     "iopub.status.busy": "2023-08-23T00:23:05.466983Z",
     "iopub.status.idle": "2023-08-23T00:23:05.786382Z",
     "shell.execute_reply": "2023-08-23T00:23:05.785264Z"
    },
    "papermill": {
     "duration": 0.337482,
     "end_time": "2023-08-23T00:23:05.788732",
     "exception": false,
     "start_time": "2023-08-23T00:23:05.451250",
     "status": "completed"
    },
    "tags": []
   },
   "outputs": [
    {
     "data": {
      "image/png": "[encoded data removed]",
      "text/plain": [
       "<Figure size 640x480 with 1 Axes>"
      ]
     },
     "metadata": {},
     "output_type": "display_data"
    }
   ],
   "source": [
    "# Histogram of 'TransactionAmount (INR)' column\n",
    "log_trx_amount = np.log1p(df['TransactionAmount (INR)'])\n",
    "\n",
    "plt.hist(log_trx_amount, bins=50, density=True, alpha=0.7)\n",
    "plt.xlabel('Logarithm of Transaction Amount (INR)')\n",
    "plt.ylabel('Probability Density')\n",
    "plt.title('Distribution of Log-transformed Transaction Amount')\n",
    "x = np.linspace(log_trx_amount.min(), log_trx_amount.max(), 100)\n",
    "dist = stats.norm(log_trx_amount.mean(), log_trx_amount.std())\n",
    "plt.plot(x, dist.pdf(x), color='red', label='PDF')\n",
    "plt.legend()\n",
    "plt.show()"
   ]
  },
  {
   "cell_type": "markdown",
   "id": "d775edb4",
   "metadata": {
    "papermill": {
     "duration": 0.015049,
     "end_time": "2023-08-23T00:23:05.817686",
     "exception": false,
     "start_time": "2023-08-23T00:23:05.802637",
     "status": "completed"
    },
    "tags": []
   },
   "source": [
    "It actually looks normally distributed.\n",
    "Now we should continue with other visualization, let's look for customer's gender distribution. "
   ]
  },
  {
   "cell_type": "code",
   "execution_count": 17,
   "id": "1b97bdaf",
   "metadata": {
    "execution": {
     "iopub.execute_input": "2023-08-23T00:23:05.848242Z",
     "iopub.status.busy": "2023-08-23T00:23:05.847611Z",
     "iopub.status.idle": "2023-08-23T00:23:06.069834Z",
     "shell.execute_reply": "2023-08-23T00:23:06.068150Z"
    },
    "papermill": {
     "duration": 0.240923,
     "end_time": "2023-08-23T00:23:06.072811",
     "exception": false,
     "start_time": "2023-08-23T00:23:05.831888",
     "status": "completed"
    },
    "tags": []
   },
   "outputs": [
    {
     "data": {
      "image/png": "[encoded data removed]",
      "text/plain": [
       "<Figure size 640x480 with 1 Axes>"
      ]
     },
     "metadata": {},
     "output_type": "display_data"
    }
   ],
   "source": [
    "# Bar Plot for 'CustGender' column\n",
    "gender_counts = df['CustGender'].value_counts()\n",
    "plt.bar(gender_counts.index, gender_counts.values)\n",
    "plt.xlabel('CustGender')\n",
    "plt.ylabel('Count')\n",
    "plt.title('Distribution of CustGender')\n",
    "\n",
    "# Add labels to the bars\n",
    "for i, count in enumerate(gender_counts.values):\n",
    "    plt.text(i, count, str(count), ha='center', va='bottom')\n",
    "\n",
    "plt.show()"
   ]
  },
  {
   "cell_type": "markdown",
   "id": "7974ecba",
   "metadata": {
    "papermill": {
     "duration": 0.015136,
     "end_time": "2023-08-23T00:23:06.102529",
     "exception": false,
     "start_time": "2023-08-23T00:23:06.087393",
     "status": "completed"
    },
    "tags": []
   },
   "source": [
    "We can see that we mostly have Male Customer and there is possibly some mistyping since we have only one 'T' gender listed in the data. Let's replace it with 'M', the most frequent gender from our customers."
   ]
  },
  {
   "cell_type": "code",
   "execution_count": 18,
   "id": "78a87e70",
   "metadata": {
    "execution": {
     "iopub.execute_input": "2023-08-23T00:23:06.135006Z",
     "iopub.status.busy": "2023-08-23T00:23:06.134420Z",
     "iopub.status.idle": "2023-08-23T00:23:06.246766Z",
     "shell.execute_reply": "2023-08-23T00:23:06.244796Z"
    },
    "papermill": {
     "duration": 0.131932,
     "end_time": "2023-08-23T00:23:06.250160",
     "exception": false,
     "start_time": "2023-08-23T00:23:06.118228",
     "status": "completed"
    },
    "tags": []
   },
   "outputs": [
    {
     "data": {
      "text/plain": [
       "M    763826\n",
       "F    281272\n",
       "Name: CustGender, dtype: int64"
      ]
     },
     "execution_count": 18,
     "metadata": {},
     "output_type": "execute_result"
    }
   ],
   "source": [
    "# Replace the anomaly 'CustomerDOB' with the most frequent CustomerDOB (1989-01-01)\n",
    "df['CustGender'][df['CustGender'] == 'T'] = 'M'\n",
    "\n",
    "# Verify that the data have been replaced\n",
    "df['CustGender'].value_counts()"
   ]
  },
  {
   "cell_type": "markdown",
   "id": "0e3de924",
   "metadata": {
    "papermill": {
     "duration": 0.015192,
     "end_time": "2023-08-23T00:23:06.280032",
     "exception": false,
     "start_time": "2023-08-23T00:23:06.264840",
     "status": "completed"
    },
    "tags": []
   },
   "source": [
    "Last EDA! Let's make a line chart or time series plot to understand our transaction trend better."
   ]
  },
  {
   "cell_type": "code",
   "execution_count": 19,
   "id": "5ce03f85",
   "metadata": {
    "execution": {
     "iopub.execute_input": "2023-08-23T00:23:06.312055Z",
     "iopub.status.busy": "2023-08-23T00:23:06.310843Z",
     "iopub.status.idle": "2023-08-23T00:23:11.033706Z",
     "shell.execute_reply": "2023-08-23T00:23:11.032146Z"
    },
    "papermill": {
     "duration": 4.741026,
     "end_time": "2023-08-23T00:23:11.036114",
     "exception": false,
     "start_time": "2023-08-23T00:23:06.295088",
     "status": "completed"
    },
    "tags": []
   },
   "outputs": [
    {
     "data": {
      "image/png": "[encoded data removed]",
      "text/plain": [
       "<Figure size 640x480 with 1 Axes>"
      ]
     },
     "metadata": {},
     "output_type": "display_data"
    }
   ],
   "source": [
    "# Time series plot for transaction frequency over time (year-month)\n",
    "\n",
    "# Grouping TransactionDate column to YearMonth\n",
    "df['YearMonth'] = df['TransactionDate'].dt.to_period('M').astype(str)\n",
    "transactions_count = df.groupby('YearMonth')['TransactionID'].count()\n",
    "\n",
    "plt.plot(transactions_count.index, transactions_count.values)\n",
    "plt.xlabel('Year-Month')\n",
    "plt.ylabel('Transaction Frequency')\n",
    "plt.title('Transaction Frequency over Time (Year-Month)')\n",
    "plt.xticks(rotation=45)\n",
    "plt.show()"
   ]
  },
  {
   "cell_type": "code",
   "execution_count": 20,
   "id": "4c87525a",
   "metadata": {
    "execution": {
     "iopub.execute_input": "2023-08-23T00:23:11.069655Z",
     "iopub.status.busy": "2023-08-23T00:23:11.069198Z",
     "iopub.status.idle": "2023-08-23T00:23:11.507497Z",
     "shell.execute_reply": "2023-08-23T00:23:11.505957Z"
    },
    "papermill": {
     "duration": 0.458333,
     "end_time": "2023-08-23T00:23:11.509433",
     "exception": false,
     "start_time": "2023-08-23T00:23:11.051100",
     "status": "completed"
    },
    "tags": []
   },
   "outputs": [
    {
     "data": {
      "image/png": "[encoded data removed]",
      "text/plain": [
       "<Figure size 640x480 with 1 Axes>"
      ]
     },
     "metadata": {},
     "output_type": "display_data"
    }
   ],
   "source": [
    "# Time series plot for transactions amount over time (year-month)\n",
    "monthly_trx_amount = df.groupby('YearMonth')['TransactionAmount (INR)'].sum()\n",
    "\n",
    "plt.plot(monthly_trx_amount.index, monthly_trx_amount.values)\n",
    "plt.xlabel('Year-Month')\n",
    "plt.ylabel('TransactionAmount (INR)')\n",
    "plt.title('Transaction Amount over Time (Year-Month)')\n",
    "plt.xticks(rotation=45)\n",
    "plt.show()"
   ]
  },
  {
   "cell_type": "code",
   "execution_count": 21,
   "id": "eeb8414a",
   "metadata": {
    "execution": {
     "iopub.execute_input": "2023-08-23T00:23:11.541591Z",
     "iopub.status.busy": "2023-08-23T00:23:11.541158Z",
     "iopub.status.idle": "2023-08-23T00:23:11.565417Z",
     "shell.execute_reply": "2023-08-23T00:23:11.563794Z"
    },
    "papermill": {
     "duration": 0.042726,
     "end_time": "2023-08-23T00:23:11.567464",
     "exception": false,
     "start_time": "2023-08-23T00:23:11.524738",
     "status": "completed"
    },
    "tags": []
   },
   "outputs": [
    {
     "data": {
      "text/html": [
       "<div>\n",
       "<style scoped>\n",
       "    .dataframe tbody tr th:only-of-type {\n",
       "        vertical-align: middle;\n",
       "    }\n",
       "\n",
       "    .dataframe tbody tr th {\n",
       "        vertical-align: top;\n",
       "    }\n",
       "\n",
       "    .dataframe thead th {\n",
       "        text-align: right;\n",
       "    }\n",
       "</style>\n",
       "<table border=\"1\" class=\"dataframe\">\n",
       "  <thead>\n",
       "    <tr style=\"text-align: right;\">\n",
       "      <th></th>\n",
       "      <th>YearMonth</th>\n",
       "      <th>TransactionCount</th>\n",
       "      <th>TotalMonetaryAmount</th>\n",
       "    </tr>\n",
       "  </thead>\n",
       "  <tbody>\n",
       "    <tr>\n",
       "      <th>0</th>\n",
       "      <td>2016-01</td>\n",
       "      <td>42638</td>\n",
       "      <td>6.271797e+07</td>\n",
       "    </tr>\n",
       "    <tr>\n",
       "      <th>1</th>\n",
       "      <td>2016-02</td>\n",
       "      <td>43683</td>\n",
       "      <td>6.697682e+07</td>\n",
       "    </tr>\n",
       "    <tr>\n",
       "      <th>2</th>\n",
       "      <td>2016-03</td>\n",
       "      <td>46926</td>\n",
       "      <td>7.606330e+07</td>\n",
       "    </tr>\n",
       "    <tr>\n",
       "      <th>3</th>\n",
       "      <td>2016-04</td>\n",
       "      <td>47132</td>\n",
       "      <td>8.122507e+07</td>\n",
       "    </tr>\n",
       "    <tr>\n",
       "      <th>4</th>\n",
       "      <td>2016-05</td>\n",
       "      <td>42233</td>\n",
       "      <td>6.785720e+07</td>\n",
       "    </tr>\n",
       "    <tr>\n",
       "      <th>5</th>\n",
       "      <td>2016-06</td>\n",
       "      <td>46110</td>\n",
       "      <td>7.704868e+07</td>\n",
       "    </tr>\n",
       "    <tr>\n",
       "      <th>6</th>\n",
       "      <td>2016-07</td>\n",
       "      <td>48299</td>\n",
       "      <td>7.602820e+07</td>\n",
       "    </tr>\n",
       "    <tr>\n",
       "      <th>7</th>\n",
       "      <td>2016-08</td>\n",
       "      <td>429294</td>\n",
       "      <td>6.757512e+08</td>\n",
       "    </tr>\n",
       "    <tr>\n",
       "      <th>8</th>\n",
       "      <td>2016-09</td>\n",
       "      <td>158650</td>\n",
       "      <td>2.446302e+08</td>\n",
       "    </tr>\n",
       "    <tr>\n",
       "      <th>9</th>\n",
       "      <td>2016-10</td>\n",
       "      <td>50949</td>\n",
       "      <td>7.908596e+07</td>\n",
       "    </tr>\n",
       "    <tr>\n",
       "      <th>10</th>\n",
       "      <td>2016-11</td>\n",
       "      <td>47187</td>\n",
       "      <td>7.329426e+07</td>\n",
       "    </tr>\n",
       "    <tr>\n",
       "      <th>11</th>\n",
       "      <td>2016-12</td>\n",
       "      <td>43097</td>\n",
       "      <td>6.526977e+07</td>\n",
       "    </tr>\n",
       "  </tbody>\n",
       "</table>\n",
       "</div>"
      ],
      "text/plain": [
       "   YearMonth  TransactionCount  TotalMonetaryAmount\n",
       "0    2016-01             42638         6.271797e+07\n",
       "1    2016-02             43683         6.697682e+07\n",
       "2    2016-03             46926         7.606330e+07\n",
       "3    2016-04             47132         8.122507e+07\n",
       "4    2016-05             42233         6.785720e+07\n",
       "5    2016-06             46110         7.704868e+07\n",
       "6    2016-07             48299         7.602820e+07\n",
       "7    2016-08            429294         6.757512e+08\n",
       "8    2016-09            158650         2.446302e+08\n",
       "9    2016-10             50949         7.908596e+07\n",
       "10   2016-11             47187         7.329426e+07\n",
       "11   2016-12             43097         6.526977e+07"
      ]
     },
     "execution_count": 21,
     "metadata": {},
     "output_type": "execute_result"
    }
   ],
   "source": [
    "# Detailed Table of Transaction Happened\n",
    "transactions_count.reset_index().rename(columns={'TransactionID': 'TransactionCount'}).merge(monthly_trx_amount.reset_index().rename(columns={'TransactionAmount (INR)': 'TotalMonetaryAmount'}), on='YearMonth')"
   ]
  },
  {
   "cell_type": "markdown",
   "id": "9c16dfc4",
   "metadata": {
    "papermill": {
     "duration": 0.015405,
     "end_time": "2023-08-23T00:23:11.598385",
     "exception": false,
     "start_time": "2023-08-23T00:23:11.582980",
     "status": "completed"
    },
    "tags": []
   },
   "source": [
    "Turns out we have some massive transactions happened in august and september 2016! It is advisable for the bank to conduct further investigation to understand the underlying reasons behind the sudden spike in transactions during August and September 2016."
   ]
  },
  {
   "cell_type": "markdown",
   "id": "408c1984",
   "metadata": {
    "papermill": {
     "duration": 0.015513,
     "end_time": "2023-08-23T00:23:11.629906",
     "exception": false,
     "start_time": "2023-08-23T00:23:11.614393",
     "status": "completed"
    },
    "tags": []
   },
   "source": [
    "# **RFM Analysis for Customer Segmentation**\n",
    "We have finished the pre analysis needed, so let's jump to RFM analysis. First, let's take a brief look again in our data"
   ]
  },
  {
   "cell_type": "code",
   "execution_count": 22,
   "id": "931fbc2f",
   "metadata": {
    "execution": {
     "iopub.execute_input": "2023-08-23T00:23:11.663749Z",
     "iopub.status.busy": "2023-08-23T00:23:11.663416Z",
     "iopub.status.idle": "2023-08-23T00:23:11.830620Z",
     "shell.execute_reply": "2023-08-23T00:23:11.829301Z"
    },
    "papermill": {
     "duration": 0.186294,
     "end_time": "2023-08-23T00:23:11.832690",
     "exception": false,
     "start_time": "2023-08-23T00:23:11.646396",
     "status": "completed"
    },
    "tags": []
   },
   "outputs": [
    {
     "data": {
      "text/html": [
       "<div>\n",
       "<style scoped>\n",
       "    .dataframe tbody tr th:only-of-type {\n",
       "        vertical-align: middle;\n",
       "    }\n",
       "\n",
       "    .dataframe tbody tr th {\n",
       "        vertical-align: top;\n",
       "    }\n",
       "\n",
       "    .dataframe thead th {\n",
       "        text-align: right;\n",
       "    }\n",
       "</style>\n",
       "<table border=\"1\" class=\"dataframe\">\n",
       "  <thead>\n",
       "    <tr style=\"text-align: right;\">\n",
       "      <th></th>\n",
       "      <th>TransactionID</th>\n",
       "      <th>CustomerID</th>\n",
       "      <th>CustomerDOB</th>\n",
       "      <th>CustGender</th>\n",
       "      <th>CustLocation</th>\n",
       "      <th>CustAccountBalance</th>\n",
       "      <th>TransactionDate</th>\n",
       "      <th>TransactionAmount (INR)</th>\n",
       "      <th>YearMonth</th>\n",
       "    </tr>\n",
       "  </thead>\n",
       "  <tbody>\n",
       "    <tr>\n",
       "      <th>678077</th>\n",
       "      <td>T678078</td>\n",
       "      <td>C6640041</td>\n",
       "      <td>1990-03-18</td>\n",
       "      <td>M</td>\n",
       "      <td>SONIPAT</td>\n",
       "      <td>27728.68</td>\n",
       "      <td>2016-08-31</td>\n",
       "      <td>50.0</td>\n",
       "      <td>2016-08</td>\n",
       "    </tr>\n",
       "  </tbody>\n",
       "</table>\n",
       "</div>"
      ],
      "text/plain": [
       "       TransactionID CustomerID CustomerDOB CustGender CustLocation  \\\n",
       "678077       T678078   C6640041  1990-03-18          M      SONIPAT   \n",
       "\n",
       "        CustAccountBalance TransactionDate  TransactionAmount (INR) YearMonth  \n",
       "678077            27728.68      2016-08-31                     50.0   2016-08  "
      ]
     },
     "execution_count": 22,
     "metadata": {},
     "output_type": "execute_result"
    }
   ],
   "source": [
    "# Check the data\n",
    "df.sample()"
   ]
  },
  {
   "cell_type": "code",
   "execution_count": 23,
   "id": "f5283f05",
   "metadata": {
    "execution": {
     "iopub.execute_input": "2023-08-23T00:23:11.865632Z",
     "iopub.status.busy": "2023-08-23T00:23:11.865238Z",
     "iopub.status.idle": "2023-08-23T00:23:11.871394Z",
     "shell.execute_reply": "2023-08-23T00:23:11.870469Z"
    },
    "papermill": {
     "duration": 0.024992,
     "end_time": "2023-08-23T00:23:11.873275",
     "exception": false,
     "start_time": "2023-08-23T00:23:11.848283",
     "status": "completed"
    },
    "tags": []
   },
   "outputs": [
    {
     "data": {
      "text/plain": [
       "(1046198, 9)"
      ]
     },
     "execution_count": 23,
     "metadata": {},
     "output_type": "execute_result"
    }
   ],
   "source": [
    "df.shape"
   ]
  },
  {
   "cell_type": "markdown",
   "id": "cbbb0c03",
   "metadata": {
    "papermill": {
     "duration": 0.014897,
     "end_time": "2023-08-23T00:23:11.903558",
     "exception": false,
     "start_time": "2023-08-23T00:23:11.888661",
     "status": "completed"
    },
    "tags": []
   },
   "source": [
    "We know that we also analyze the recency of each user, so let's set our today to the last date listed in 'TransactionDate' column."
   ]
  },
  {
   "cell_type": "code",
   "execution_count": 24,
   "id": "498db1cc",
   "metadata": {
    "execution": {
     "iopub.execute_input": "2023-08-23T00:23:11.935980Z",
     "iopub.status.busy": "2023-08-23T00:23:11.935682Z",
     "iopub.status.idle": "2023-08-23T00:23:14.251263Z",
     "shell.execute_reply": "2023-08-23T00:23:14.249911Z"
    },
    "papermill": {
     "duration": 2.334885,
     "end_time": "2023-08-23T00:23:14.253819",
     "exception": false,
     "start_time": "2023-08-23T00:23:11.918934",
     "status": "completed"
    },
    "tags": []
   },
   "outputs": [],
   "source": [
    "# Set 'today' variable\n",
    "today = max(df['TransactionDate'])"
   ]
  },
  {
   "cell_type": "markdown",
   "id": "7583dccf",
   "metadata": {
    "papermill": {
     "duration": 0.015433,
     "end_time": "2023-08-23T00:23:14.285049",
     "exception": false,
     "start_time": "2023-08-23T00:23:14.269616",
     "status": "completed"
    },
    "tags": []
   },
   "source": [
    "Next step, we need to create a new table that will store the user details specifically for this analysis. The purpose of this new table is to provide a streamlined and structured format for conducting the RFM analysis."
   ]
  },
  {
   "cell_type": "code",
   "execution_count": 25,
   "id": "47f84194",
   "metadata": {
    "execution": {
     "iopub.execute_input": "2023-08-23T00:23:14.318715Z",
     "iopub.status.busy": "2023-08-23T00:23:14.318105Z",
     "iopub.status.idle": "2023-08-23T00:23:17.197594Z",
     "shell.execute_reply": "2023-08-23T00:23:17.196560Z"
    },
    "papermill": {
     "duration": 2.898537,
     "end_time": "2023-08-23T00:23:17.199451",
     "exception": false,
     "start_time": "2023-08-23T00:23:14.300914",
     "status": "completed"
    },
    "tags": []
   },
   "outputs": [
    {
     "data": {
      "text/html": [
       "<div>\n",
       "<style scoped>\n",
       "    .dataframe tbody tr th:only-of-type {\n",
       "        vertical-align: middle;\n",
       "    }\n",
       "\n",
       "    .dataframe tbody tr th {\n",
       "        vertical-align: top;\n",
       "    }\n",
       "\n",
       "    .dataframe thead th {\n",
       "        text-align: right;\n",
       "    }\n",
       "</style>\n",
       "<table border=\"1\" class=\"dataframe\">\n",
       "  <thead>\n",
       "    <tr style=\"text-align: right;\">\n",
       "      <th></th>\n",
       "      <th>CustomerID</th>\n",
       "      <th>TransactionCount</th>\n",
       "      <th>LastTransactionDate</th>\n",
       "      <th>TotalTransactionValue</th>\n",
       "    </tr>\n",
       "  </thead>\n",
       "  <tbody>\n",
       "    <tr>\n",
       "      <th>0</th>\n",
       "      <td>C1010011</td>\n",
       "      <td>2</td>\n",
       "      <td>2016-09-26</td>\n",
       "      <td>5106.0</td>\n",
       "    </tr>\n",
       "    <tr>\n",
       "      <th>1</th>\n",
       "      <td>C1010012</td>\n",
       "      <td>1</td>\n",
       "      <td>2016-08-14</td>\n",
       "      <td>1499.0</td>\n",
       "    </tr>\n",
       "    <tr>\n",
       "      <th>2</th>\n",
       "      <td>C1010014</td>\n",
       "      <td>2</td>\n",
       "      <td>2016-07-08</td>\n",
       "      <td>1455.0</td>\n",
       "    </tr>\n",
       "    <tr>\n",
       "      <th>3</th>\n",
       "      <td>C1010018</td>\n",
       "      <td>1</td>\n",
       "      <td>2016-09-15</td>\n",
       "      <td>30.0</td>\n",
       "    </tr>\n",
       "    <tr>\n",
       "      <th>4</th>\n",
       "      <td>C1010024</td>\n",
       "      <td>1</td>\n",
       "      <td>2016-08-18</td>\n",
       "      <td>5000.0</td>\n",
       "    </tr>\n",
       "  </tbody>\n",
       "</table>\n",
       "</div>"
      ],
      "text/plain": [
       "  CustomerID  TransactionCount LastTransactionDate  TotalTransactionValue\n",
       "0   C1010011                 2          2016-09-26                 5106.0\n",
       "1   C1010012                 1          2016-08-14                 1499.0\n",
       "2   C1010014                 2          2016-07-08                 1455.0\n",
       "3   C1010018                 1          2016-09-15                   30.0\n",
       "4   C1010024                 1          2016-08-18                 5000.0"
      ]
     },
     "execution_count": 25,
     "metadata": {},
     "output_type": "execute_result"
    }
   ],
   "source": [
    "# Creating 'dfUser' table\n",
    "dfUser = df.groupby('CustomerID', as_index=False).agg(TransactionCount=('TransactionID','nunique'),LastTransactionDate=('TransactionDate','max'),TotalTransactionValue=('TransactionAmount (INR)','sum'))\n",
    "dfUser.head()"
   ]
  },
  {
   "cell_type": "markdown",
   "id": "b8d00ace",
   "metadata": {
    "papermill": {
     "duration": 0.015512,
     "end_time": "2023-08-23T00:23:17.231099",
     "exception": false,
     "start_time": "2023-08-23T00:23:17.215587",
     "status": "completed"
    },
    "tags": []
   },
   "source": [
    "Then, we create a new column specifically to calculate how many day user had their last transaction."
   ]
  },
  {
   "cell_type": "code",
   "execution_count": 26,
   "id": "7de84453",
   "metadata": {
    "execution": {
     "iopub.execute_input": "2023-08-23T00:23:17.265518Z",
     "iopub.status.busy": "2023-08-23T00:23:17.264464Z",
     "iopub.status.idle": "2023-08-23T00:23:17.291570Z",
     "shell.execute_reply": "2023-08-23T00:23:17.289626Z"
    },
    "papermill": {
     "duration": 0.046859,
     "end_time": "2023-08-23T00:23:17.293907",
     "exception": false,
     "start_time": "2023-08-23T00:23:17.247048",
     "status": "completed"
    },
    "tags": []
   },
   "outputs": [
    {
     "data": {
      "text/html": [
       "<div>\n",
       "<style scoped>\n",
       "    .dataframe tbody tr th:only-of-type {\n",
       "        vertical-align: middle;\n",
       "    }\n",
       "\n",
       "    .dataframe tbody tr th {\n",
       "        vertical-align: top;\n",
       "    }\n",
       "\n",
       "    .dataframe thead th {\n",
       "        text-align: right;\n",
       "    }\n",
       "</style>\n",
       "<table border=\"1\" class=\"dataframe\">\n",
       "  <thead>\n",
       "    <tr style=\"text-align: right;\">\n",
       "      <th></th>\n",
       "      <th>CustomerID</th>\n",
       "      <th>TransactionCount</th>\n",
       "      <th>LastTransactionDate</th>\n",
       "      <th>TotalTransactionValue</th>\n",
       "      <th>DaySinceLastTransaction</th>\n",
       "    </tr>\n",
       "  </thead>\n",
       "  <tbody>\n",
       "    <tr>\n",
       "      <th>0</th>\n",
       "      <td>C1010011</td>\n",
       "      <td>2</td>\n",
       "      <td>2016-09-26</td>\n",
       "      <td>5106.0</td>\n",
       "      <td>74</td>\n",
       "    </tr>\n",
       "    <tr>\n",
       "      <th>1</th>\n",
       "      <td>C1010012</td>\n",
       "      <td>1</td>\n",
       "      <td>2016-08-14</td>\n",
       "      <td>1499.0</td>\n",
       "      <td>117</td>\n",
       "    </tr>\n",
       "    <tr>\n",
       "      <th>2</th>\n",
       "      <td>C1010014</td>\n",
       "      <td>2</td>\n",
       "      <td>2016-07-08</td>\n",
       "      <td>1455.0</td>\n",
       "      <td>154</td>\n",
       "    </tr>\n",
       "    <tr>\n",
       "      <th>3</th>\n",
       "      <td>C1010018</td>\n",
       "      <td>1</td>\n",
       "      <td>2016-09-15</td>\n",
       "      <td>30.0</td>\n",
       "      <td>85</td>\n",
       "    </tr>\n",
       "    <tr>\n",
       "      <th>4</th>\n",
       "      <td>C1010024</td>\n",
       "      <td>1</td>\n",
       "      <td>2016-08-18</td>\n",
       "      <td>5000.0</td>\n",
       "      <td>113</td>\n",
       "    </tr>\n",
       "  </tbody>\n",
       "</table>\n",
       "</div>"
      ],
      "text/plain": [
       "  CustomerID  TransactionCount LastTransactionDate  TotalTransactionValue  \\\n",
       "0   C1010011                 2          2016-09-26                 5106.0   \n",
       "1   C1010012                 1          2016-08-14                 1499.0   \n",
       "2   C1010014                 2          2016-07-08                 1455.0   \n",
       "3   C1010018                 1          2016-09-15                   30.0   \n",
       "4   C1010024                 1          2016-08-18                 5000.0   \n",
       "\n",
       "   DaySinceLastTransaction  \n",
       "0                       74  \n",
       "1                      117  \n",
       "2                      154  \n",
       "3                       85  \n",
       "4                      113  "
      ]
     },
     "execution_count": 26,
     "metadata": {},
     "output_type": "execute_result"
    }
   ],
   "source": [
    "dfUser['DaySinceLastTransaction'] = (today - dfUser['LastTransactionDate']).dt.days\n",
    "dfUser.head()"
   ]
  },
  {
   "cell_type": "markdown",
   "id": "74eb9963",
   "metadata": {
    "papermill": {
     "duration": 0.01623,
     "end_time": "2023-08-23T00:23:17.326314",
     "exception": false,
     "start_time": "2023-08-23T00:23:17.310084",
     "status": "completed"
    },
    "tags": []
   },
   "source": [
    "Nice! Let's do some reindex column to make our 'dfUser' more summarize, then we will take a look for their descriptive statistics."
   ]
  },
  {
   "cell_type": "code",
   "execution_count": 27,
   "id": "0e30a550",
   "metadata": {
    "execution": {
     "iopub.execute_input": "2023-08-23T00:23:17.362400Z",
     "iopub.status.busy": "2023-08-23T00:23:17.361862Z",
     "iopub.status.idle": "2023-08-23T00:23:17.423197Z",
     "shell.execute_reply": "2023-08-23T00:23:17.421035Z"
    },
    "papermill": {
     "duration": 0.081171,
     "end_time": "2023-08-23T00:23:17.425425",
     "exception": false,
     "start_time": "2023-08-23T00:23:17.344254",
     "status": "completed"
    },
    "tags": []
   },
   "outputs": [
    {
     "data": {
      "text/html": [
       "<div>\n",
       "<style scoped>\n",
       "    .dataframe tbody tr th:only-of-type {\n",
       "        vertical-align: middle;\n",
       "    }\n",
       "\n",
       "    .dataframe tbody tr th {\n",
       "        vertical-align: top;\n",
       "    }\n",
       "\n",
       "    .dataframe thead th {\n",
       "        text-align: right;\n",
       "    }\n",
       "</style>\n",
       "<table border=\"1\" class=\"dataframe\">\n",
       "  <thead>\n",
       "    <tr style=\"text-align: right;\">\n",
       "      <th></th>\n",
       "      <th>CustomerID</th>\n",
       "      <th>DaySinceLastTransaction</th>\n",
       "      <th>TransactionCount</th>\n",
       "      <th>TotalTransactionValue</th>\n",
       "    </tr>\n",
       "  </thead>\n",
       "  <tbody>\n",
       "    <tr>\n",
       "      <th>0</th>\n",
       "      <td>C1010011</td>\n",
       "      <td>74</td>\n",
       "      <td>2</td>\n",
       "      <td>5106.0</td>\n",
       "    </tr>\n",
       "    <tr>\n",
       "      <th>1</th>\n",
       "      <td>C1010012</td>\n",
       "      <td>117</td>\n",
       "      <td>1</td>\n",
       "      <td>1499.0</td>\n",
       "    </tr>\n",
       "    <tr>\n",
       "      <th>2</th>\n",
       "      <td>C1010014</td>\n",
       "      <td>154</td>\n",
       "      <td>2</td>\n",
       "      <td>1455.0</td>\n",
       "    </tr>\n",
       "    <tr>\n",
       "      <th>3</th>\n",
       "      <td>C1010018</td>\n",
       "      <td>85</td>\n",
       "      <td>1</td>\n",
       "      <td>30.0</td>\n",
       "    </tr>\n",
       "    <tr>\n",
       "      <th>4</th>\n",
       "      <td>C1010024</td>\n",
       "      <td>113</td>\n",
       "      <td>1</td>\n",
       "      <td>5000.0</td>\n",
       "    </tr>\n",
       "  </tbody>\n",
       "</table>\n",
       "</div>"
      ],
      "text/plain": [
       "  CustomerID  DaySinceLastTransaction  TransactionCount  TotalTransactionValue\n",
       "0   C1010011                       74                 2                 5106.0\n",
       "1   C1010012                      117                 1                 1499.0\n",
       "2   C1010014                      154                 2                 1455.0\n",
       "3   C1010018                       85                 1                   30.0\n",
       "4   C1010024                      113                 1                 5000.0"
      ]
     },
     "execution_count": 27,
     "metadata": {},
     "output_type": "execute_result"
    }
   ],
   "source": [
    "# Reindex 'dfUser columns'\n",
    "dfUser = dfUser.reindex(columns=['CustomerID', 'DaySinceLastTransaction', 'TransactionCount', 'TotalTransactionValue'])\n",
    "dfUser.head()"
   ]
  },
  {
   "cell_type": "code",
   "execution_count": 28,
   "id": "c4db1e82",
   "metadata": {
    "execution": {
     "iopub.execute_input": "2023-08-23T00:23:17.460741Z",
     "iopub.status.busy": "2023-08-23T00:23:17.460292Z",
     "iopub.status.idle": "2023-08-23T00:23:17.539372Z",
     "shell.execute_reply": "2023-08-23T00:23:17.538336Z"
    },
    "papermill": {
     "duration": 0.099126,
     "end_time": "2023-08-23T00:23:17.541159",
     "exception": false,
     "start_time": "2023-08-23T00:23:17.442033",
     "status": "completed"
    },
    "tags": []
   },
   "outputs": [
    {
     "data": {
      "text/html": [
       "<div>\n",
       "<style scoped>\n",
       "    .dataframe tbody tr th:only-of-type {\n",
       "        vertical-align: middle;\n",
       "    }\n",
       "\n",
       "    .dataframe tbody tr th {\n",
       "        vertical-align: top;\n",
       "    }\n",
       "\n",
       "    .dataframe thead th {\n",
       "        text-align: right;\n",
       "    }\n",
       "</style>\n",
       "<table border=\"1\" class=\"dataframe\">\n",
       "  <thead>\n",
       "    <tr style=\"text-align: right;\">\n",
       "      <th></th>\n",
       "      <th>DaySinceLastTransaction</th>\n",
       "      <th>TransactionCount</th>\n",
       "      <th>TotalTransactionValue</th>\n",
       "    </tr>\n",
       "  </thead>\n",
       "  <tbody>\n",
       "    <tr>\n",
       "      <th>count</th>\n",
       "      <td>882600.000000</td>\n",
       "      <td>882600.000000</td>\n",
       "      <td>8.826000e+05</td>\n",
       "    </tr>\n",
       "    <tr>\n",
       "      <th>mean</th>\n",
       "      <td>128.744488</td>\n",
       "      <td>1.185359</td>\n",
       "      <td>1.864886e+03</td>\n",
       "    </tr>\n",
       "    <tr>\n",
       "      <th>std</th>\n",
       "      <td>80.025715</td>\n",
       "      <td>0.450060</td>\n",
       "      <td>7.200223e+03</td>\n",
       "    </tr>\n",
       "    <tr>\n",
       "      <th>min</th>\n",
       "      <td>0.000000</td>\n",
       "      <td>1.000000</td>\n",
       "      <td>0.000000e+00</td>\n",
       "    </tr>\n",
       "    <tr>\n",
       "      <th>25%</th>\n",
       "      <td>86.000000</td>\n",
       "      <td>1.000000</td>\n",
       "      <td>2.000000e+02</td>\n",
       "    </tr>\n",
       "    <tr>\n",
       "      <th>50%</th>\n",
       "      <td>109.000000</td>\n",
       "      <td>1.000000</td>\n",
       "      <td>5.360000e+02</td>\n",
       "    </tr>\n",
       "    <tr>\n",
       "      <th>75%</th>\n",
       "      <td>153.000000</td>\n",
       "      <td>1.000000</td>\n",
       "      <td>1.500000e+03</td>\n",
       "    </tr>\n",
       "    <tr>\n",
       "      <th>max</th>\n",
       "      <td>336.000000</td>\n",
       "      <td>6.000000</td>\n",
       "      <td>1.560035e+06</td>\n",
       "    </tr>\n",
       "  </tbody>\n",
       "</table>\n",
       "</div>"
      ],
      "text/plain": [
       "       DaySinceLastTransaction  TransactionCount  TotalTransactionValue\n",
       "count            882600.000000     882600.000000           8.826000e+05\n",
       "mean                128.744488          1.185359           1.864886e+03\n",
       "std                  80.025715          0.450060           7.200223e+03\n",
       "min                   0.000000          1.000000           0.000000e+00\n",
       "25%                  86.000000          1.000000           2.000000e+02\n",
       "50%                 109.000000          1.000000           5.360000e+02\n",
       "75%                 153.000000          1.000000           1.500000e+03\n",
       "max                 336.000000          6.000000           1.560035e+06"
      ]
     },
     "execution_count": 28,
     "metadata": {},
     "output_type": "execute_result"
    }
   ],
   "source": [
    "# Descriptive Statistics of dfUser (without RFM score)\n",
    "dfUser.describe()"
   ]
  },
  {
   "cell_type": "markdown",
   "id": "b1289848",
   "metadata": {
    "papermill": {
     "duration": 0.015486,
     "end_time": "2023-08-23T00:23:17.572920",
     "exception": false,
     "start_time": "2023-08-23T00:23:17.557434",
     "status": "completed"
    },
    "tags": []
   },
   "source": [
    "To create the RFM score, we start by binning the data for Recency (based on 'DaySinceLastTransaction'), Frequency (based on 'TransactionCount'), and Monetary Value (based on 'TotalTransactionValue') using the rules below:\n",
    "* The lower 'DaySinceLastTransaction' value indicates higher recency score (better recency), while higher 'TransactionCount' and 'TotalTransactionValue' values indicate higher frequency and monetary score, respectively.\n",
    "* Recency: The bins will be determined using percentiles: the 0th, 20th, 40th, 60th, 80th, and 100th percentiles. This allows us to divide the values into five equal-sized bins or intervals. The label binning will be [5, 4, 3, 2, 1]\n",
    "* Frequency: Through the descriptive statistics we do before, it is revealed that the 'TransactionCount' distribution is highly skewed towards 1. For this reason, we won't use percentiles, instead we use these rules:\n",
    "  * 1: Customers with a transaction count of 1 or 2\n",
    "  * 2: Customers with a transaction count of 3 or 4\n",
    "  * 3: Customers with a transaction count of more than 4\n",
    "* Monetary: The bins will be determined using percentiles: the 0th, 20th, 40th, 60th, 80th, and 100th percentiles. This allows us to divide the values into five equal-sized bins or intervals. The label binning will be [1, 2, 3, 4, 5]\n"
   ]
  },
  {
   "cell_type": "code",
   "execution_count": 29,
   "id": "8fd4d422",
   "metadata": {
    "execution": {
     "iopub.execute_input": "2023-08-23T00:23:17.606915Z",
     "iopub.status.busy": "2023-08-23T00:23:17.606580Z",
     "iopub.status.idle": "2023-08-23T00:23:17.720860Z",
     "shell.execute_reply": "2023-08-23T00:23:17.719633Z"
    },
    "papermill": {
     "duration": 0.134701,
     "end_time": "2023-08-23T00:23:17.723533",
     "exception": false,
     "start_time": "2023-08-23T00:23:17.588832",
     "status": "completed"
    },
    "tags": []
   },
   "outputs": [
    {
     "data": {
      "text/html": [
       "<div>\n",
       "<style scoped>\n",
       "    .dataframe tbody tr th:only-of-type {\n",
       "        vertical-align: middle;\n",
       "    }\n",
       "\n",
       "    .dataframe tbody tr th {\n",
       "        vertical-align: top;\n",
       "    }\n",
       "\n",
       "    .dataframe thead th {\n",
       "        text-align: right;\n",
       "    }\n",
       "</style>\n",
       "<table border=\"1\" class=\"dataframe\">\n",
       "  <thead>\n",
       "    <tr style=\"text-align: right;\">\n",
       "      <th></th>\n",
       "      <th>CustomerID</th>\n",
       "      <th>DaySinceLastTransaction</th>\n",
       "      <th>TransactionCount</th>\n",
       "      <th>TotalTransactionValue</th>\n",
       "      <th>Recency Score</th>\n",
       "      <th>Frequency Score</th>\n",
       "      <th>Monetary Score</th>\n",
       "    </tr>\n",
       "  </thead>\n",
       "  <tbody>\n",
       "    <tr>\n",
       "      <th>0</th>\n",
       "      <td>C1010011</td>\n",
       "      <td>74</td>\n",
       "      <td>2</td>\n",
       "      <td>5106.0</td>\n",
       "      <td>5</td>\n",
       "      <td>1</td>\n",
       "      <td>5</td>\n",
       "    </tr>\n",
       "    <tr>\n",
       "      <th>1</th>\n",
       "      <td>C1010012</td>\n",
       "      <td>117</td>\n",
       "      <td>1</td>\n",
       "      <td>1499.0</td>\n",
       "      <td>2</td>\n",
       "      <td>1</td>\n",
       "      <td>4</td>\n",
       "    </tr>\n",
       "    <tr>\n",
       "      <th>2</th>\n",
       "      <td>C1010014</td>\n",
       "      <td>154</td>\n",
       "      <td>2</td>\n",
       "      <td>1455.0</td>\n",
       "      <td>2</td>\n",
       "      <td>1</td>\n",
       "      <td>4</td>\n",
       "    </tr>\n",
       "    <tr>\n",
       "      <th>3</th>\n",
       "      <td>C1010018</td>\n",
       "      <td>85</td>\n",
       "      <td>1</td>\n",
       "      <td>30.0</td>\n",
       "      <td>4</td>\n",
       "      <td>1</td>\n",
       "      <td>1</td>\n",
       "    </tr>\n",
       "    <tr>\n",
       "      <th>4</th>\n",
       "      <td>C1010024</td>\n",
       "      <td>113</td>\n",
       "      <td>1</td>\n",
       "      <td>5000.0</td>\n",
       "      <td>3</td>\n",
       "      <td>1</td>\n",
       "      <td>5</td>\n",
       "    </tr>\n",
       "  </tbody>\n",
       "</table>\n",
       "</div>"
      ],
      "text/plain": [
       "  CustomerID  DaySinceLastTransaction  TransactionCount  \\\n",
       "0   C1010011                       74                 2   \n",
       "1   C1010012                      117                 1   \n",
       "2   C1010014                      154                 2   \n",
       "3   C1010018                       85                 1   \n",
       "4   C1010024                      113                 1   \n",
       "\n",
       "   TotalTransactionValue Recency Score Frequency Score Monetary Score  \n",
       "0                 5106.0             5               1              5  \n",
       "1                 1499.0             2               1              4  \n",
       "2                 1455.0             2               1              4  \n",
       "3                   30.0             4               1              1  \n",
       "4                 5000.0             3               1              5  "
      ]
     },
     "execution_count": 29,
     "metadata": {},
     "output_type": "execute_result"
    }
   ],
   "source": [
    "# Data Binning for Recency Score\n",
    "dfUser['Recency Score'] = pd.qcut(dfUser['DaySinceLastTransaction'], 5, labels=[5, 4, 3, 2, 1])\n",
    "# Data Binning for Frequency Score\n",
    "dfUser['Frequency Score'] = pd.cut(dfUser['TransactionCount'], bins=[0, 2, 4, dfUser['TransactionCount'].max()+1], labels=[1, 2, 3])\n",
    "# Data Binning for Monetary Score\n",
    "dfUser['Monetary Score']= pd.qcut(dfUser['TotalTransactionValue'],5,labels=[1,2,3,4,5])\n",
    "\n",
    "dfUser.head()"
   ]
  },
  {
   "cell_type": "code",
   "execution_count": 30,
   "id": "84b16e9a",
   "metadata": {
    "execution": {
     "iopub.execute_input": "2023-08-23T00:23:17.759284Z",
     "iopub.status.busy": "2023-08-23T00:23:17.758936Z",
     "iopub.status.idle": "2023-08-23T00:23:18.268446Z",
     "shell.execute_reply": "2023-08-23T00:23:18.267393Z"
    },
    "papermill": {
     "duration": 0.529616,
     "end_time": "2023-08-23T00:23:18.270594",
     "exception": false,
     "start_time": "2023-08-23T00:23:17.740978",
     "status": "completed"
    },
    "tags": []
   },
   "outputs": [
    {
     "data": {
      "text/html": [
       "<div>\n",
       "<style scoped>\n",
       "    .dataframe tbody tr th:only-of-type {\n",
       "        vertical-align: middle;\n",
       "    }\n",
       "\n",
       "    .dataframe tbody tr th {\n",
       "        vertical-align: top;\n",
       "    }\n",
       "\n",
       "    .dataframe thead th {\n",
       "        text-align: right;\n",
       "    }\n",
       "</style>\n",
       "<table border=\"1\" class=\"dataframe\">\n",
       "  <thead>\n",
       "    <tr style=\"text-align: right;\">\n",
       "      <th></th>\n",
       "      <th>CustomerID</th>\n",
       "      <th>DaySinceLastTransaction</th>\n",
       "      <th>TransactionCount</th>\n",
       "      <th>TotalTransactionValue</th>\n",
       "      <th>Recency Score</th>\n",
       "      <th>Frequency Score</th>\n",
       "      <th>Monetary Score</th>\n",
       "      <th>RFM_Score</th>\n",
       "    </tr>\n",
       "  </thead>\n",
       "  <tbody>\n",
       "    <tr>\n",
       "      <th>0</th>\n",
       "      <td>C1010011</td>\n",
       "      <td>74</td>\n",
       "      <td>2</td>\n",
       "      <td>5106.0</td>\n",
       "      <td>5</td>\n",
       "      <td>1</td>\n",
       "      <td>5</td>\n",
       "      <td>515</td>\n",
       "    </tr>\n",
       "    <tr>\n",
       "      <th>1</th>\n",
       "      <td>C1010012</td>\n",
       "      <td>117</td>\n",
       "      <td>1</td>\n",
       "      <td>1499.0</td>\n",
       "      <td>2</td>\n",
       "      <td>1</td>\n",
       "      <td>4</td>\n",
       "      <td>214</td>\n",
       "    </tr>\n",
       "    <tr>\n",
       "      <th>2</th>\n",
       "      <td>C1010014</td>\n",
       "      <td>154</td>\n",
       "      <td>2</td>\n",
       "      <td>1455.0</td>\n",
       "      <td>2</td>\n",
       "      <td>1</td>\n",
       "      <td>4</td>\n",
       "      <td>214</td>\n",
       "    </tr>\n",
       "    <tr>\n",
       "      <th>3</th>\n",
       "      <td>C1010018</td>\n",
       "      <td>85</td>\n",
       "      <td>1</td>\n",
       "      <td>30.0</td>\n",
       "      <td>4</td>\n",
       "      <td>1</td>\n",
       "      <td>1</td>\n",
       "      <td>411</td>\n",
       "    </tr>\n",
       "    <tr>\n",
       "      <th>4</th>\n",
       "      <td>C1010024</td>\n",
       "      <td>113</td>\n",
       "      <td>1</td>\n",
       "      <td>5000.0</td>\n",
       "      <td>3</td>\n",
       "      <td>1</td>\n",
       "      <td>5</td>\n",
       "      <td>315</td>\n",
       "    </tr>\n",
       "  </tbody>\n",
       "</table>\n",
       "</div>"
      ],
      "text/plain": [
       "  CustomerID  DaySinceLastTransaction  TransactionCount  \\\n",
       "0   C1010011                       74                 2   \n",
       "1   C1010012                      117                 1   \n",
       "2   C1010014                      154                 2   \n",
       "3   C1010018                       85                 1   \n",
       "4   C1010024                      113                 1   \n",
       "\n",
       "   TotalTransactionValue Recency Score Frequency Score Monetary Score  \\\n",
       "0                 5106.0             5               1              5   \n",
       "1                 1499.0             2               1              4   \n",
       "2                 1455.0             2               1              4   \n",
       "3                   30.0             4               1              1   \n",
       "4                 5000.0             3               1              5   \n",
       "\n",
       "  RFM_Score  \n",
       "0       515  \n",
       "1       214  \n",
       "2       214  \n",
       "3       411  \n",
       "4       315  "
      ]
     },
     "execution_count": 30,
     "metadata": {},
     "output_type": "execute_result"
    }
   ],
   "source": [
    "# Make a 'RFM_Score' column to make the segmentation easier\n",
    "dfUser['RFM_Score'] = (dfUser['Recency Score'].astype(str)) + (dfUser['Frequency Score'].astype(str)) + (dfUser['Monetary Score'].astype(str))\n",
    "dfUser.head()"
   ]
  },
  {
   "cell_type": "markdown",
   "id": "5d97dfa8",
   "metadata": {
    "papermill": {
     "duration": 0.01716,
     "end_time": "2023-08-23T00:23:18.309905",
     "exception": false,
     "start_time": "2023-08-23T00:23:18.292745",
     "status": "completed"
    },
    "tags": []
   },
   "source": [
    "Very good! Now let's continue to user segmentation. I decided to focus on Recency and Frequency which are two fundamental factors that directly reflect customer behavior and loyality with the bank. While Monetary is also an important component, it may not always be the primary driver of customer behavior in the banking context. By temporarily excluding Monetary score, we will be able to create more straightforward and actionable segments that are easier to interpret and implement in marketing strategies."
   ]
  },
  {
   "cell_type": "code",
   "execution_count": 31,
   "id": "3836ac67",
   "metadata": {
    "execution": {
     "iopub.execute_input": "2023-08-23T00:23:18.350816Z",
     "iopub.status.busy": "2023-08-23T00:23:18.350432Z",
     "iopub.status.idle": "2023-08-23T00:23:27.665371Z",
     "shell.execute_reply": "2023-08-23T00:23:27.663897Z"
    },
    "papermill": {
     "duration": 9.3368,
     "end_time": "2023-08-23T00:23:27.667714",
     "exception": false,
     "start_time": "2023-08-23T00:23:18.330914",
     "status": "completed"
    },
    "tags": []
   },
   "outputs": [
    {
     "data": {
      "text/html": [
       "<div>\n",
       "<style scoped>\n",
       "    .dataframe tbody tr th:only-of-type {\n",
       "        vertical-align: middle;\n",
       "    }\n",
       "\n",
       "    .dataframe tbody tr th {\n",
       "        vertical-align: top;\n",
       "    }\n",
       "\n",
       "    .dataframe thead th {\n",
       "        text-align: right;\n",
       "    }\n",
       "</style>\n",
       "<table border=\"1\" class=\"dataframe\">\n",
       "  <thead>\n",
       "    <tr style=\"text-align: right;\">\n",
       "      <th></th>\n",
       "      <th>CustomerID</th>\n",
       "      <th>DaySinceLastTransaction</th>\n",
       "      <th>TransactionCount</th>\n",
       "      <th>TotalTransactionValue</th>\n",
       "      <th>Recency Score</th>\n",
       "      <th>Frequency Score</th>\n",
       "      <th>Monetary Score</th>\n",
       "      <th>RFM_Score</th>\n",
       "      <th>Customer Segment</th>\n",
       "    </tr>\n",
       "  </thead>\n",
       "  <tbody>\n",
       "    <tr>\n",
       "      <th>0</th>\n",
       "      <td>C1010011</td>\n",
       "      <td>74</td>\n",
       "      <td>2</td>\n",
       "      <td>5106.0</td>\n",
       "      <td>5</td>\n",
       "      <td>1</td>\n",
       "      <td>5</td>\n",
       "      <td>515</td>\n",
       "      <td>High Recency, Low Frequency</td>\n",
       "    </tr>\n",
       "    <tr>\n",
       "      <th>1</th>\n",
       "      <td>C1010012</td>\n",
       "      <td>117</td>\n",
       "      <td>1</td>\n",
       "      <td>1499.0</td>\n",
       "      <td>2</td>\n",
       "      <td>1</td>\n",
       "      <td>4</td>\n",
       "      <td>214</td>\n",
       "      <td>Medium Recency, Low Frequency</td>\n",
       "    </tr>\n",
       "    <tr>\n",
       "      <th>2</th>\n",
       "      <td>C1010014</td>\n",
       "      <td>154</td>\n",
       "      <td>2</td>\n",
       "      <td>1455.0</td>\n",
       "      <td>2</td>\n",
       "      <td>1</td>\n",
       "      <td>4</td>\n",
       "      <td>214</td>\n",
       "      <td>Medium Recency, Low Frequency</td>\n",
       "    </tr>\n",
       "    <tr>\n",
       "      <th>3</th>\n",
       "      <td>C1010018</td>\n",
       "      <td>85</td>\n",
       "      <td>1</td>\n",
       "      <td>30.0</td>\n",
       "      <td>4</td>\n",
       "      <td>1</td>\n",
       "      <td>1</td>\n",
       "      <td>411</td>\n",
       "      <td>High Recency, Low Frequency</td>\n",
       "    </tr>\n",
       "    <tr>\n",
       "      <th>4</th>\n",
       "      <td>C1010024</td>\n",
       "      <td>113</td>\n",
       "      <td>1</td>\n",
       "      <td>5000.0</td>\n",
       "      <td>3</td>\n",
       "      <td>1</td>\n",
       "      <td>5</td>\n",
       "      <td>315</td>\n",
       "      <td>Medium Recency, Low Frequency</td>\n",
       "    </tr>\n",
       "  </tbody>\n",
       "</table>\n",
       "</div>"
      ],
      "text/plain": [
       "  CustomerID  DaySinceLastTransaction  TransactionCount  \\\n",
       "0   C1010011                       74                 2   \n",
       "1   C1010012                      117                 1   \n",
       "2   C1010014                      154                 2   \n",
       "3   C1010018                       85                 1   \n",
       "4   C1010024                      113                 1   \n",
       "\n",
       "   TotalTransactionValue Recency Score Frequency Score Monetary Score  \\\n",
       "0                 5106.0             5               1              5   \n",
       "1                 1499.0             2               1              4   \n",
       "2                 1455.0             2               1              4   \n",
       "3                   30.0             4               1              1   \n",
       "4                 5000.0             3               1              5   \n",
       "\n",
       "  RFM_Score               Customer Segment  \n",
       "0       515    High Recency, Low Frequency  \n",
       "1       214  Medium Recency, Low Frequency  \n",
       "2       214  Medium Recency, Low Frequency  \n",
       "3       411    High Recency, Low Frequency  \n",
       "4       315  Medium Recency, Low Frequency  "
      ]
     },
     "execution_count": 31,
     "metadata": {},
     "output_type": "execute_result"
    }
   ],
   "source": [
    "# User Segmentation\n",
    "segment_map = {\n",
    "    r'[4-5]3.': 'High Recency, High Frequency',\n",
    "    r'[4-5]2.': 'High Recency, Medium Frequency',\n",
    "    r'[4-5]1.': 'High Recency, Low Frequency',\n",
    "    r'[2-3]3.': 'Medium Recency, High Frequency',\n",
    "    r'[2-3]2.': 'Medium Recency, Medium Frequency',\n",
    "    r'[2-3]1.': 'Medium Recency, Low Frequency',\n",
    "    r'13.': 'Low Recency, High Frequency',\n",
    "    r'12.': 'Low Recency, Medium Frequency',\n",
    "    r'11.': 'Low Recency, Low Frequency'\n",
    "}\n",
    "\n",
    "dfUser['Customer Segment'] = dfUser['RFM_Score'].replace(segment_map, regex=True)\n",
    "dfUser.head()\n"
   ]
  },
  {
   "cell_type": "code",
   "execution_count": 32,
   "id": "added09d",
   "metadata": {
    "execution": {
     "iopub.execute_input": "2023-08-23T00:23:27.702841Z",
     "iopub.status.busy": "2023-08-23T00:23:27.702479Z",
     "iopub.status.idle": "2023-08-23T00:23:27.978696Z",
     "shell.execute_reply": "2023-08-23T00:23:27.977483Z"
    },
    "papermill": {
     "duration": 0.295977,
     "end_time": "2023-08-23T00:23:27.980784",
     "exception": false,
     "start_time": "2023-08-23T00:23:27.684807",
     "status": "completed"
    },
    "tags": []
   },
   "outputs": [
    {
     "data": {
      "text/html": [
       "<div>\n",
       "<style scoped>\n",
       "    .dataframe tbody tr th:only-of-type {\n",
       "        vertical-align: middle;\n",
       "    }\n",
       "\n",
       "    .dataframe tbody tr th {\n",
       "        vertical-align: top;\n",
       "    }\n",
       "\n",
       "    .dataframe thead th {\n",
       "        text-align: right;\n",
       "    }\n",
       "</style>\n",
       "<table border=\"1\" class=\"dataframe\">\n",
       "  <thead>\n",
       "    <tr style=\"text-align: right;\">\n",
       "      <th></th>\n",
       "      <th>CustomerID</th>\n",
       "      <th>DaySinceLastTransaction</th>\n",
       "      <th>TransactionCount</th>\n",
       "      <th>TotalTransactionValue</th>\n",
       "      <th>Recency Score</th>\n",
       "      <th>Frequency Score</th>\n",
       "      <th>Monetary Score</th>\n",
       "      <th>RFM_Score</th>\n",
       "      <th>Customer Segment</th>\n",
       "    </tr>\n",
       "  </thead>\n",
       "  <tbody>\n",
       "  </tbody>\n",
       "</table>\n",
       "</div>"
      ],
      "text/plain": [
       "Empty DataFrame\n",
       "Columns: [CustomerID, DaySinceLastTransaction, TransactionCount, TotalTransactionValue, Recency Score, Frequency Score, Monetary Score, RFM_Score, Customer Segment]\n",
       "Index: []"
      ]
     },
     "execution_count": 32,
     "metadata": {},
     "output_type": "execute_result"
    }
   ],
   "source": [
    "# Verify if there is no CustomerID that segmented in more than one customer segment\n",
    "dfUser[dfUser.duplicated(subset='CustomerID')]"
   ]
  },
  {
   "cell_type": "code",
   "execution_count": 33,
   "id": "2af83d9c",
   "metadata": {
    "execution": {
     "iopub.execute_input": "2023-08-23T00:23:28.016269Z",
     "iopub.status.busy": "2023-08-23T00:23:28.015917Z",
     "iopub.status.idle": "2023-08-23T00:23:28.487475Z",
     "shell.execute_reply": "2023-08-23T00:23:28.485939Z"
    },
    "papermill": {
     "duration": 0.492486,
     "end_time": "2023-08-23T00:23:28.489992",
     "exception": false,
     "start_time": "2023-08-23T00:23:27.997506",
     "status": "completed"
    },
    "tags": []
   },
   "outputs": [
    {
     "data": {
      "text/plain": [
       "CustomerID                 0\n",
       "DaySinceLastTransaction    0\n",
       "TransactionCount           0\n",
       "TotalTransactionValue      0\n",
       "Recency Score              0\n",
       "Frequency Score            0\n",
       "Monetary Score             0\n",
       "RFM_Score                  0\n",
       "Customer Segment           0\n",
       "dtype: int64"
      ]
     },
     "execution_count": 33,
     "metadata": {},
     "output_type": "execute_result"
    }
   ],
   "source": [
    "# Verify that there is no column have missing values\n",
    "dfUser.isna().sum()"
   ]
  },
  {
   "cell_type": "markdown",
   "id": "ee8c08ba",
   "metadata": {
    "papermill": {
     "duration": 0.017223,
     "end_time": "2023-08-23T00:23:28.524585",
     "exception": false,
     "start_time": "2023-08-23T00:23:28.507362",
     "status": "completed"
    },
    "tags": []
   },
   "source": [
    "It's finished! Let's do some quick summary. Here I made a pivot table that showing the average value of R, F, M criteria, and then followed by the bar chart of the customer counts."
   ]
  },
  {
   "cell_type": "code",
   "execution_count": 34,
   "id": "bd0881b2",
   "metadata": {
    "execution": {
     "iopub.execute_input": "2023-08-23T00:23:28.561222Z",
     "iopub.status.busy": "2023-08-23T00:23:28.560891Z",
     "iopub.status.idle": "2023-08-23T00:23:28.885843Z",
     "shell.execute_reply": "2023-08-23T00:23:28.884496Z"
    },
    "papermill": {
     "duration": 0.345602,
     "end_time": "2023-08-23T00:23:28.887724",
     "exception": false,
     "start_time": "2023-08-23T00:23:28.542122",
     "status": "completed"
    },
    "tags": []
   },
   "outputs": [
    {
     "data": {
      "text/html": [
       "<div>\n",
       "<style scoped>\n",
       "    .dataframe tbody tr th:only-of-type {\n",
       "        vertical-align: middle;\n",
       "    }\n",
       "\n",
       "    .dataframe tbody tr th {\n",
       "        vertical-align: top;\n",
       "    }\n",
       "\n",
       "    .dataframe thead th {\n",
       "        text-align: right;\n",
       "    }\n",
       "</style>\n",
       "<table border=\"1\" class=\"dataframe\">\n",
       "  <thead>\n",
       "    <tr style=\"text-align: right;\">\n",
       "      <th></th>\n",
       "      <th>CustomerID</th>\n",
       "      <th>DaySinceLastTransaction</th>\n",
       "      <th>TotalTransactionValue</th>\n",
       "      <th>TransactionCount</th>\n",
       "    </tr>\n",
       "    <tr>\n",
       "      <th>Customer Segment</th>\n",
       "      <th></th>\n",
       "      <th></th>\n",
       "      <th></th>\n",
       "      <th></th>\n",
       "    </tr>\n",
       "  </thead>\n",
       "  <tbody>\n",
       "    <tr>\n",
       "      <th>High Recency, High Frequency</th>\n",
       "      <td>144</td>\n",
       "      <td>52.569444</td>\n",
       "      <td>1.311777e+06</td>\n",
       "      <td>5.090278</td>\n",
       "    </tr>\n",
       "    <tr>\n",
       "      <th>High Recency, Low Frequency</th>\n",
       "      <td>356623</td>\n",
       "      <td>69.168088</td>\n",
       "      <td>6.668882e+08</td>\n",
       "      <td>1.214170</td>\n",
       "    </tr>\n",
       "    <tr>\n",
       "      <th>High Recency, Medium Frequency</th>\n",
       "      <td>14055</td>\n",
       "      <td>61.084027</td>\n",
       "      <td>6.817628e+07</td>\n",
       "      <td>3.103024</td>\n",
       "    </tr>\n",
       "    <tr>\n",
       "      <th>Low Recency, Low Frequency</th>\n",
       "      <td>163007</td>\n",
       "      <td>273.644801</td>\n",
       "      <td>2.691605e+08</td>\n",
       "      <td>1.034551</td>\n",
       "    </tr>\n",
       "    <tr>\n",
       "      <th>Low Recency, Medium Frequency</th>\n",
       "      <td>156</td>\n",
       "      <td>240.346154</td>\n",
       "      <td>5.485778e+05</td>\n",
       "      <td>3.025641</td>\n",
       "    </tr>\n",
       "    <tr>\n",
       "      <th>Medium Recency, High Frequency</th>\n",
       "      <td>15</td>\n",
       "      <td>110.866667</td>\n",
       "      <td>1.346080e+05</td>\n",
       "      <td>5.066667</td>\n",
       "    </tr>\n",
       "    <tr>\n",
       "      <th>Medium Recency, Low Frequency</th>\n",
       "      <td>344449</td>\n",
       "      <td>124.759851</td>\n",
       "      <td>6.193719e+08</td>\n",
       "      <td>1.123458</td>\n",
       "    </tr>\n",
       "    <tr>\n",
       "      <th>Medium Recency, Medium Frequency</th>\n",
       "      <td>4151</td>\n",
       "      <td>115.217297</td>\n",
       "      <td>2.035677e+07</td>\n",
       "      <td>3.057095</td>\n",
       "    </tr>\n",
       "  </tbody>\n",
       "</table>\n",
       "</div>"
      ],
      "text/plain": [
       "                                  CustomerID  DaySinceLastTransaction  \\\n",
       "Customer Segment                                                        \n",
       "High Recency, High Frequency             144                52.569444   \n",
       "High Recency, Low Frequency           356623                69.168088   \n",
       "High Recency, Medium Frequency         14055                61.084027   \n",
       "Low Recency, Low Frequency            163007               273.644801   \n",
       "Low Recency, Medium Frequency            156               240.346154   \n",
       "Medium Recency, High Frequency            15               110.866667   \n",
       "Medium Recency, Low Frequency         344449               124.759851   \n",
       "Medium Recency, Medium Frequency        4151               115.217297   \n",
       "\n",
       "                                  TotalTransactionValue  TransactionCount  \n",
       "Customer Segment                                                           \n",
       "High Recency, High Frequency               1.311777e+06          5.090278  \n",
       "High Recency, Low Frequency                6.668882e+08          1.214170  \n",
       "High Recency, Medium Frequency             6.817628e+07          3.103024  \n",
       "Low Recency, Low Frequency                 2.691605e+08          1.034551  \n",
       "Low Recency, Medium Frequency              5.485778e+05          3.025641  \n",
       "Medium Recency, High Frequency             1.346080e+05          5.066667  \n",
       "Medium Recency, Low Frequency              6.193719e+08          1.123458  \n",
       "Medium Recency, Medium Frequency           2.035677e+07          3.057095  "
      ]
     },
     "execution_count": 34,
     "metadata": {},
     "output_type": "execute_result"
    }
   ],
   "source": [
    "dfUserSummary = pd.pivot_table(dfUser,\n",
    "                               index='Customer Segment', \n",
    "                               values=['CustomerID', 'DaySinceLastTransaction', 'TransactionCount', 'TotalTransactionValue'], \n",
    "                               aggfunc={'CustomerID': 'count',\n",
    "                                        'DaySinceLastTransaction': 'mean',\n",
    "                                        'TransactionCount': 'mean', \n",
    "                                        'TotalTransactionValue': 'sum'}\n",
    "                              )\n",
    "dfUserSummary"
   ]
  },
  {
   "cell_type": "code",
   "execution_count": 35,
   "id": "ebd5c75f",
   "metadata": {
    "execution": {
     "iopub.execute_input": "2023-08-23T00:23:28.924498Z",
     "iopub.status.busy": "2023-08-23T00:23:28.924085Z",
     "iopub.status.idle": "2023-08-23T00:23:29.186277Z",
     "shell.execute_reply": "2023-08-23T00:23:29.185385Z"
    },
    "papermill": {
     "duration": 0.28322,
     "end_time": "2023-08-23T00:23:29.188280",
     "exception": false,
     "start_time": "2023-08-23T00:23:28.905060",
     "status": "completed"
    },
    "tags": []
   },
   "outputs": [
    {
     "data": {
      "image/png": "[encoded data removed]",
      "text/plain": [
       "<Figure size 1000x600 with 1 Axes>"
      ]
     },
     "metadata": {},
     "output_type": "display_data"
    }
   ],
   "source": [
    "# Sort the values\n",
    "dfUserSummary.sort_values(by='CustomerID', ascending=False, inplace=True)\n",
    "\n",
    "# Creating a Bar Chart\n",
    "plt.figure(figsize=(10, 6))\n",
    "plt.bar(dfUserSummary.index, dfUserSummary['CustomerID'])\n",
    "plt.xlabel('Customer Segment')\n",
    "plt.ylabel('Customer Count')\n",
    "plt.title('Customer Count by Segment')\n",
    "plt.xticks(rotation=90)\n",
    "plt.show()"
   ]
  },
  {
   "cell_type": "markdown",
   "id": "4fcc56d4",
   "metadata": {
    "papermill": {
     "duration": 0.018691,
     "end_time": "2023-08-23T00:23:29.225839",
     "exception": false,
     "start_time": "2023-08-23T00:23:29.207148",
     "status": "completed"
    },
    "tags": []
   },
   "source": [
    "# **Review**\n",
    "* Most customers exhibit low transaction frequency, which may pose challenges for the bank's sustainability.\n",
    "  * Recommendation: Enhance customer engagement by improving customer service and actively seeking feedback. We may gain some understanding of what is holding them to do bank activities. In addition, banks can also innovate by creating digital bank features for more convenience banking experience.\n",
    "* The Low Recency, Low Frequency Segment also looks concerning since it's our third highest customer segment. \n",
    "  * Recommendation: It's crucial to re-engage with these customers and remind them of the benefits and services the bank offers. Develop reactivation campaigns or special offers to entice them to return and increase their interaction levels.\n"
   ]
  }
 ],
 "metadata": {
  "kernelspec": {
   "display_name": "Python 3",
   "language": "python",
   "name": "python3"
  },
  "language_info": {
   "codemirror_mode": {
    "name": "ipython",
    "version": 3
   },
   "file_extension": ".py",
   "mimetype": "text/x-python",
   "name": "python",
   "nbconvert_exporter": "python",
   "pygments_lexer": "ipython3",
   "version": "3.10.10"
  },
  "papermill": {
   "default_parameters": {},
   "duration": 58.039907,
   "end_time": "2023-08-23T00:23:30.368281",
   "environment_variables": {},
   "exception": null,
   "input_path": "__notebook__.ipynb",
   "output_path": "__notebook__.ipynb",
   "parameters": {},
   "start_time": "2023-08-23T00:22:32.328374",
   "version": "2.4.0"
  }
 },
 "nbformat": 4,
 "nbformat_minor": 5
}
